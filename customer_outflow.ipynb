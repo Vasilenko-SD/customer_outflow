{
 "cells": [
  {
   "cell_type": "markdown",
   "metadata": {
    "toc": true
   },
   "source": [
    "<h1>Содержание<span class=\"tocSkip\"></span></h1>\n",
    "<div class=\"toc\"><ul class=\"toc-item\"><li><ul class=\"toc-item\"><li><span><a href=\"#Описание-проекта\" data-toc-modified-id=\"Описание-проекта-0.1\"><span class=\"toc-item-num\">0.1&nbsp;&nbsp;</span>Описание проекта</a></span><ul class=\"toc-item\"><li><span><a href=\"#Отток-клиентов\" data-toc-modified-id=\"Отток-клиентов-0.1.1\"><span class=\"toc-item-num\">0.1.1&nbsp;&nbsp;</span>Отток клиентов</a></span></li><li><span><a href=\"#Цель-проекта\" data-toc-modified-id=\"Цель-проекта-0.1.2\"><span class=\"toc-item-num\">0.1.2&nbsp;&nbsp;</span>Цель проекта</a></span></li><li><span><a href=\"#Описание-данных\" data-toc-modified-id=\"Описание-данных-0.1.3\"><span class=\"toc-item-num\">0.1.3&nbsp;&nbsp;</span>Описание данных</a></span></li></ul></li></ul></li><li><span><a href=\"#Подготовка-данных\" data-toc-modified-id=\"Подготовка-данных-1\"><span class=\"toc-item-num\">1&nbsp;&nbsp;</span>Подготовка данных</a></span><ul class=\"toc-item\"><li><ul class=\"toc-item\"><li><span><a href=\"#Вывод\" data-toc-modified-id=\"Вывод-1.0.1\"><span class=\"toc-item-num\">1.0.1&nbsp;&nbsp;</span>Вывод</a></span></li></ul></li></ul></li><li><span><a href=\"#Исследование-задачи\" data-toc-modified-id=\"Исследование-задачи-2\"><span class=\"toc-item-num\">2&nbsp;&nbsp;</span>Исследование задачи</a></span><ul class=\"toc-item\"><li><span><a href=\"#Построим-модель-без-учета-баланса\" data-toc-modified-id=\"Построим-модель-без-учета-баланса-2.1\"><span class=\"toc-item-num\">2.1&nbsp;&nbsp;</span>Построим модель без учета баланса</a></span><ul class=\"toc-item\"><li><span><a href=\"#Вывод\" data-toc-modified-id=\"Вывод-2.1.1\"><span class=\"toc-item-num\">2.1.1&nbsp;&nbsp;</span>Вывод</a></span></li></ul></li></ul></li><li><span><a href=\"#Борьба-с-дисбалансом\" data-toc-modified-id=\"Борьба-с-дисбалансом-3\"><span class=\"toc-item-num\">3&nbsp;&nbsp;</span>Борьба с дисбалансом</a></span><ul class=\"toc-item\"><li><ul class=\"toc-item\"><li><span><a href=\"#Построим-модели-при-сбалансированной-выборке-(уменьшение-выборки)\" data-toc-modified-id=\"Построим-модели-при-сбалансированной-выборке-(уменьшение-выборки)-3.0.1\"><span class=\"toc-item-num\">3.0.1&nbsp;&nbsp;</span>Построим модели при сбалансированной выборке (уменьшение выборки)</a></span></li><li><span><a href=\"#Построим-модели-при-сбалансированной-выборке-(увеличение-выборки)\" data-toc-modified-id=\"Построим-модели-при-сбалансированной-выборке-(увеличение-выборки)-3.0.2\"><span class=\"toc-item-num\">3.0.2&nbsp;&nbsp;</span>Построим модели при сбалансированной выборке (увеличение выборки)</a></span></li><li><span><a href=\"#Построим-модели-при-сбалансированной-выборке-(взвешивание-классов)\" data-toc-modified-id=\"Построим-модели-при-сбалансированной-выборке-(взвешивание-классов)-3.0.3\"><span class=\"toc-item-num\">3.0.3&nbsp;&nbsp;</span>Построим модели при сбалансированной выборке (взвешивание классов)</a></span></li><li><span><a href=\"#Исследование-метрика-AUC-ROC\" data-toc-modified-id=\"Исследование-метрика-AUC-ROC-3.0.4\"><span class=\"toc-item-num\">3.0.4&nbsp;&nbsp;</span>Исследование метрика AUC-ROC</a></span></li><li><span><a href=\"#Вывод\" data-toc-modified-id=\"Вывод-3.0.5\"><span class=\"toc-item-num\">3.0.5&nbsp;&nbsp;</span>Вывод</a></span></li></ul></li></ul></li><li><span><a href=\"#Тестирование-модели\" data-toc-modified-id=\"Тестирование-модели-4\"><span class=\"toc-item-num\">4&nbsp;&nbsp;</span>Тестирование модели</a></span><ul class=\"toc-item\"><li><span><a href=\"#Общий-вывод\" data-toc-modified-id=\"Общий-вывод-4.1\"><span class=\"toc-item-num\">4.1&nbsp;&nbsp;</span>Общий вывод</a></span></li><li><span><a href=\"#Изменение-кодировки\" data-toc-modified-id=\"Изменение-кодировки-4.2\"><span class=\"toc-item-num\">4.2&nbsp;&nbsp;</span>Изменение кодировки</a></span><ul class=\"toc-item\"><li><span><a href=\"#Построим-модели-при-сбалансированной-выборке-(увеличение-выборки)\" data-toc-modified-id=\"Построим-модели-при-сбалансированной-выборке-(увеличение-выборки)-4.2.1\"><span class=\"toc-item-num\">4.2.1&nbsp;&nbsp;</span>Построим модели при сбалансированной выборке (увеличение выборки)</a></span></li><li><span><a href=\"#Построим-модели-при-сбалансированной-выборке-(взвешивание-классов)\" data-toc-modified-id=\"Построим-модели-при-сбалансированной-выборке-(взвешивание-классов)-4.2.2\"><span class=\"toc-item-num\">4.2.2&nbsp;&nbsp;</span>Построим модели при сбалансированной выборке (взвешивание классов)</a></span></li></ul></li><li><span><a href=\"#Общий-вывод\" data-toc-modified-id=\"Общий-вывод-4.3\"><span class=\"toc-item-num\">4.3&nbsp;&nbsp;</span>Общий вывод</a></span></li></ul></li></ul></div>"
   ]
  },
  {
   "cell_type": "markdown",
   "metadata": {},
   "source": [
    "#### Цель проекта\n",
    "Построите модель с предельно большим значением *F1*-меры. Для успешной сдачи проекта, необходимо довести метрику до 0.59. \n",
    "\n",
    "Дополнительно измеряить *AUC-ROC*, сравнить её значение с *F1*-мерой."
   ]
  },
  {
   "cell_type": "markdown",
   "metadata": {},
   "source": [
    "## Подготовка данных"
   ]
  },
  {
   "cell_type": "code",
   "execution_count": 1,
   "metadata": {},
   "outputs": [
    {
     "name": "stdout",
     "output_type": "stream",
     "text": [
      "Requirement already satisfied: skimpy in /opt/conda/lib/python3.9/site-packages (0.0.11)\n",
      "Requirement already satisfied: polars<0.20.0,>=0.19.0 in /opt/conda/lib/python3.9/site-packages (from skimpy) (0.19.9)\n",
      "Requirement already satisfied: ipykernel<7.0.0,>=6.7.0 in /opt/conda/lib/python3.9/site-packages (from skimpy) (6.25.2)\n",
      "Requirement already satisfied: pandas<3.0.0,>=2.0.3 in /opt/conda/lib/python3.9/site-packages (from skimpy) (2.1.1)\n",
      "Requirement already satisfied: rich<14.0,>=10.9 in /opt/conda/lib/python3.9/site-packages (from skimpy) (13.6.0)\n",
      "Requirement already satisfied: pyarrow<14.0.0,>=13.0.0 in /opt/conda/lib/python3.9/site-packages (from skimpy) (13.0.0)\n",
      "Requirement already satisfied: numpy<2.0.0,>=1.22.2 in /opt/conda/lib/python3.9/site-packages (from skimpy) (1.24.4)\n",
      "Requirement already satisfied: typeguard==4.1.4 in /opt/conda/lib/python3.9/site-packages (from skimpy) (4.1.4)\n",
      "Requirement already satisfied: click<9.0.0,>=8.1.6 in /opt/conda/lib/python3.9/site-packages (from skimpy) (8.1.7)\n",
      "Requirement already satisfied: Pygments<3.0.0,>=2.10.0 in /opt/conda/lib/python3.9/site-packages (from skimpy) (2.16.1)\n",
      "Requirement already satisfied: jupyter<2.0.0,>=1.0.0 in /opt/conda/lib/python3.9/site-packages (from skimpy) (1.0.0)\n",
      "Requirement already satisfied: typing-extensions>=4.7.0 in /opt/conda/lib/python3.9/site-packages (from typeguard==4.1.4->skimpy) (4.8.0)\n",
      "Requirement already satisfied: importlib-metadata>=3.6 in /opt/conda/lib/python3.9/site-packages (from typeguard==4.1.4->skimpy) (4.6.1)\n",
      "Requirement already satisfied: zipp>=0.5 in /opt/conda/lib/python3.9/site-packages (from importlib-metadata>=3.6->typeguard==4.1.4->skimpy) (3.5.0)\n",
      "Requirement already satisfied: traitlets>=5.4.0 in /opt/conda/lib/python3.9/site-packages (from ipykernel<7.0.0,>=6.7.0->skimpy) (5.11.2)\n",
      "Requirement already satisfied: ipython>=7.23.1 in /opt/conda/lib/python3.9/site-packages (from ipykernel<7.0.0,>=6.7.0->skimpy) (7.25.0)\n",
      "Requirement already satisfied: comm>=0.1.1 in /opt/conda/lib/python3.9/site-packages (from ipykernel<7.0.0,>=6.7.0->skimpy) (0.1.4)\n",
      "Requirement already satisfied: matplotlib-inline>=0.1 in /opt/conda/lib/python3.9/site-packages (from ipykernel<7.0.0,>=6.7.0->skimpy) (0.1.2)\n",
      "Requirement already satisfied: packaging in /opt/conda/lib/python3.9/site-packages (from ipykernel<7.0.0,>=6.7.0->skimpy) (21.3)\n",
      "Requirement already satisfied: debugpy>=1.6.5 in /opt/conda/lib/python3.9/site-packages (from ipykernel<7.0.0,>=6.7.0->skimpy) (1.8.0)\n",
      "Requirement already satisfied: tornado>=6.1 in /opt/conda/lib/python3.9/site-packages (from ipykernel<7.0.0,>=6.7.0->skimpy) (6.1)\n",
      "Requirement already satisfied: nest-asyncio in /opt/conda/lib/python3.9/site-packages (from ipykernel<7.0.0,>=6.7.0->skimpy) (1.5.1)\n",
      "Requirement already satisfied: pyzmq>=20 in /opt/conda/lib/python3.9/site-packages (from ipykernel<7.0.0,>=6.7.0->skimpy) (22.1.0)\n",
      "Requirement already satisfied: jupyter-client>=6.1.12 in /opt/conda/lib/python3.9/site-packages (from ipykernel<7.0.0,>=6.7.0->skimpy) (6.1.12)\n",
      "Requirement already satisfied: psutil in /opt/conda/lib/python3.9/site-packages (from ipykernel<7.0.0,>=6.7.0->skimpy) (5.9.6)\n",
      "Requirement already satisfied: jupyter-core!=5.0.*,>=4.12 in /opt/conda/lib/python3.9/site-packages (from ipykernel<7.0.0,>=6.7.0->skimpy) (5.4.0)\n",
      "Requirement already satisfied: jedi>=0.16 in /opt/conda/lib/python3.9/site-packages (from ipython>=7.23.1->ipykernel<7.0.0,>=6.7.0->skimpy) (0.18.0)\n",
      "Requirement already satisfied: backcall in /opt/conda/lib/python3.9/site-packages (from ipython>=7.23.1->ipykernel<7.0.0,>=6.7.0->skimpy) (0.2.0)\n",
      "Requirement already satisfied: decorator in /opt/conda/lib/python3.9/site-packages (from ipython>=7.23.1->ipykernel<7.0.0,>=6.7.0->skimpy) (5.0.9)\n",
      "Requirement already satisfied: pexpect>4.3 in /opt/conda/lib/python3.9/site-packages (from ipython>=7.23.1->ipykernel<7.0.0,>=6.7.0->skimpy) (4.8.0)\n",
      "Requirement already satisfied: pickleshare in /opt/conda/lib/python3.9/site-packages (from ipython>=7.23.1->ipykernel<7.0.0,>=6.7.0->skimpy) (0.7.5)\n",
      "Requirement already satisfied: prompt-toolkit!=3.0.0,!=3.0.1,<3.1.0,>=2.0.0 in /opt/conda/lib/python3.9/site-packages (from ipython>=7.23.1->ipykernel<7.0.0,>=6.7.0->skimpy) (3.0.19)\n",
      "Requirement already satisfied: setuptools>=18.5 in /opt/conda/lib/python3.9/site-packages (from ipython>=7.23.1->ipykernel<7.0.0,>=6.7.0->skimpy) (49.6.0.post20210108)\n",
      "Requirement already satisfied: parso<0.9.0,>=0.8.0 in /opt/conda/lib/python3.9/site-packages (from jedi>=0.16->ipython>=7.23.1->ipykernel<7.0.0,>=6.7.0->skimpy) (0.8.2)\n",
      "Requirement already satisfied: jupyter-console in /opt/conda/lib/python3.9/site-packages (from jupyter<2.0.0,>=1.0.0->skimpy) (6.4.2)\n",
      "Requirement already satisfied: ipywidgets in /opt/conda/lib/python3.9/site-packages (from jupyter<2.0.0,>=1.0.0->skimpy) (7.6.3)\n",
      "Requirement already satisfied: notebook in /opt/conda/lib/python3.9/site-packages (from jupyter<2.0.0,>=1.0.0->skimpy) (6.4.0)\n",
      "Requirement already satisfied: nbconvert in /opt/conda/lib/python3.9/site-packages (from jupyter<2.0.0,>=1.0.0->skimpy) (6.1.0)\n",
      "Requirement already satisfied: qtconsole in /opt/conda/lib/python3.9/site-packages (from jupyter<2.0.0,>=1.0.0->skimpy) (5.3.2)\n",
      "Requirement already satisfied: python-dateutil>=2.1 in /opt/conda/lib/python3.9/site-packages (from jupyter-client>=6.1.12->ipykernel<7.0.0,>=6.7.0->skimpy) (2.8.2)\n",
      "Requirement already satisfied: platformdirs>=2.5 in /opt/conda/lib/python3.9/site-packages (from jupyter-core!=5.0.*,>=4.12->ipykernel<7.0.0,>=6.7.0->skimpy) (3.11.0)\n",
      "Requirement already satisfied: tzdata>=2022.1 in /opt/conda/lib/python3.9/site-packages (from pandas<3.0.0,>=2.0.3->skimpy) (2023.3)\n",
      "Requirement already satisfied: pytz>=2020.1 in /opt/conda/lib/python3.9/site-packages (from pandas<3.0.0,>=2.0.3->skimpy) (2021.1)\n",
      "Requirement already satisfied: ptyprocess>=0.5 in /opt/conda/lib/python3.9/site-packages (from pexpect>4.3->ipython>=7.23.1->ipykernel<7.0.0,>=6.7.0->skimpy) (0.7.0)\n",
      "Requirement already satisfied: wcwidth in /opt/conda/lib/python3.9/site-packages (from prompt-toolkit!=3.0.0,!=3.0.1,<3.1.0,>=2.0.0->ipython>=7.23.1->ipykernel<7.0.0,>=6.7.0->skimpy) (0.2.5)\n",
      "Requirement already satisfied: six>=1.5 in /opt/conda/lib/python3.9/site-packages (from python-dateutil>=2.1->jupyter-client>=6.1.12->ipykernel<7.0.0,>=6.7.0->skimpy) (1.16.0)\n",
      "Requirement already satisfied: markdown-it-py>=2.2.0 in /opt/conda/lib/python3.9/site-packages (from rich<14.0,>=10.9->skimpy) (3.0.0)\n",
      "Requirement already satisfied: mdurl~=0.1 in /opt/conda/lib/python3.9/site-packages (from markdown-it-py>=2.2.0->rich<14.0,>=10.9->skimpy) (0.1.2)\n",
      "Requirement already satisfied: widgetsnbextension~=3.5.0 in /opt/conda/lib/python3.9/site-packages (from ipywidgets->jupyter<2.0.0,>=1.0.0->skimpy) (3.5.2)\n",
      "Requirement already satisfied: jupyterlab-widgets>=1.0.0 in /opt/conda/lib/python3.9/site-packages (from ipywidgets->jupyter<2.0.0,>=1.0.0->skimpy) (3.0.2)\n",
      "Requirement already satisfied: nbformat>=4.2.0 in /opt/conda/lib/python3.9/site-packages (from ipywidgets->jupyter<2.0.0,>=1.0.0->skimpy) (5.1.3)\n",
      "Requirement already satisfied: jsonschema!=2.5.0,>=2.4 in /opt/conda/lib/python3.9/site-packages (from nbformat>=4.2.0->ipywidgets->jupyter<2.0.0,>=1.0.0->skimpy) (3.2.0)\n",
      "Requirement already satisfied: ipython-genutils in /opt/conda/lib/python3.9/site-packages (from nbformat>=4.2.0->ipywidgets->jupyter<2.0.0,>=1.0.0->skimpy) (0.2.0)\n",
      "Requirement already satisfied: attrs>=17.4.0 in /opt/conda/lib/python3.9/site-packages (from jsonschema!=2.5.0,>=2.4->nbformat>=4.2.0->ipywidgets->jupyter<2.0.0,>=1.0.0->skimpy) (21.2.0)\n",
      "Requirement already satisfied: pyrsistent>=0.14.0 in /opt/conda/lib/python3.9/site-packages (from jsonschema!=2.5.0,>=2.4->nbformat>=4.2.0->ipywidgets->jupyter<2.0.0,>=1.0.0->skimpy) (0.17.3)\n",
      "Requirement already satisfied: prometheus-client in /opt/conda/lib/python3.9/site-packages (from notebook->jupyter<2.0.0,>=1.0.0->skimpy) (0.11.0)\n",
      "Requirement already satisfied: Send2Trash>=1.5.0 in /opt/conda/lib/python3.9/site-packages (from notebook->jupyter<2.0.0,>=1.0.0->skimpy) (1.7.1)\n",
      "Requirement already satisfied: terminado>=0.8.3 in /opt/conda/lib/python3.9/site-packages (from notebook->jupyter<2.0.0,>=1.0.0->skimpy) (0.10.1)\n",
      "Requirement already satisfied: argon2-cffi in /opt/conda/lib/python3.9/site-packages (from notebook->jupyter<2.0.0,>=1.0.0->skimpy) (20.1.0)\n",
      "Requirement already satisfied: jinja2 in /opt/conda/lib/python3.9/site-packages (from notebook->jupyter<2.0.0,>=1.0.0->skimpy) (3.0.1)\n",
      "Requirement already satisfied: cffi>=1.0.0 in /opt/conda/lib/python3.9/site-packages (from argon2-cffi->notebook->jupyter<2.0.0,>=1.0.0->skimpy) (1.14.5)\n",
      "Requirement already satisfied: pycparser in /opt/conda/lib/python3.9/site-packages (from cffi>=1.0.0->argon2-cffi->notebook->jupyter<2.0.0,>=1.0.0->skimpy) (2.20)\n",
      "Requirement already satisfied: MarkupSafe>=2.0 in /opt/conda/lib/python3.9/site-packages (from jinja2->notebook->jupyter<2.0.0,>=1.0.0->skimpy) (2.1.1)\n",
      "Requirement already satisfied: defusedxml in /opt/conda/lib/python3.9/site-packages (from nbconvert->jupyter<2.0.0,>=1.0.0->skimpy) (0.7.1)\n",
      "Requirement already satisfied: pandocfilters>=1.4.1 in /opt/conda/lib/python3.9/site-packages (from nbconvert->jupyter<2.0.0,>=1.0.0->skimpy) (1.4.2)\n",
      "Requirement already satisfied: entrypoints>=0.2.2 in /opt/conda/lib/python3.9/site-packages (from nbconvert->jupyter<2.0.0,>=1.0.0->skimpy) (0.3)\n",
      "Requirement already satisfied: jupyterlab-pygments in /opt/conda/lib/python3.9/site-packages (from nbconvert->jupyter<2.0.0,>=1.0.0->skimpy) (0.1.2)\n",
      "Requirement already satisfied: bleach in /opt/conda/lib/python3.9/site-packages (from nbconvert->jupyter<2.0.0,>=1.0.0->skimpy) (3.3.0)\n",
      "Requirement already satisfied: testpath in /opt/conda/lib/python3.9/site-packages (from nbconvert->jupyter<2.0.0,>=1.0.0->skimpy) (0.5.0)\n",
      "Requirement already satisfied: nbclient<0.6.0,>=0.5.0 in /opt/conda/lib/python3.9/site-packages (from nbconvert->jupyter<2.0.0,>=1.0.0->skimpy) (0.5.3)\n",
      "Requirement already satisfied: mistune<2,>=0.8.1 in /opt/conda/lib/python3.9/site-packages (from nbconvert->jupyter<2.0.0,>=1.0.0->skimpy) (0.8.4)\n",
      "Requirement already satisfied: async-generator in /opt/conda/lib/python3.9/site-packages (from nbclient<0.6.0,>=0.5.0->nbconvert->jupyter<2.0.0,>=1.0.0->skimpy) (1.10)\n",
      "Requirement already satisfied: webencodings in /opt/conda/lib/python3.9/site-packages (from bleach->nbconvert->jupyter<2.0.0,>=1.0.0->skimpy) (0.5.1)\n",
      "Requirement already satisfied: pyparsing!=3.0.5,>=2.0.2 in /opt/conda/lib/python3.9/site-packages (from packaging->ipykernel<7.0.0,>=6.7.0->skimpy) (2.4.7)\n",
      "Requirement already satisfied: qtpy>=2.0.1 in /opt/conda/lib/python3.9/site-packages (from qtconsole->jupyter<2.0.0,>=1.0.0->skimpy) (2.2.0)\n",
      "Note: you may need to restart the kernel to use updated packages.\n"
     ]
    }
   ],
   "source": [
    "pip install skimpy"
   ]
  },
  {
   "cell_type": "code",
   "execution_count": 2,
   "metadata": {},
   "outputs": [],
   "source": [
    "# Подключаем библиотеки\n",
    "import pandas as pd\n",
    "import matplotlib.pyplot as plt\n",
    "import warnings\n",
    "warnings.simplefilter(action='ignore', category=FutureWarning)\n",
    "from skimpy import clean_columns\n",
    "from sklearn.tree import DecisionTreeClassifier\n",
    "from sklearn.ensemble import RandomForestClassifier\n",
    "from sklearn.linear_model import LogisticRegression\n",
    "from sklearn.model_selection import train_test_split\n",
    "from sklearn.preprocessing import StandardScaler\n",
    "from sklearn.preprocessing import OneHotEncoder\n",
    "from sklearn.metrics import accuracy_score\n",
    "from sklearn.metrics import f1_score\n",
    "from sklearn.utils import shuffle\n",
    "from sklearn.metrics import roc_curve\n",
    "from sklearn.metrics import roc_auc_score\n",
    "from sklearn.metrics import confusion_matrix\n",
    "from sklearn.metrics import recall_score\n",
    "from sklearn.metrics import precision_score"
   ]
  },
  {
   "cell_type": "code",
   "execution_count": 3,
   "metadata": {},
   "outputs": [],
   "source": [
    "# открываем файл\n",
    "try:\n",
    "    df = pd.read_csv('Churn.csv')\n",
    "except:\n",
    "    df = pd.read_csv('/datasets/Churn.csv')"
   ]
  },
  {
   "cell_type": "code",
   "execution_count": 4,
   "metadata": {},
   "outputs": [
    {
     "name": "stdout",
     "output_type": "stream",
     "text": [
      "(10000, 14)\n",
      "<class 'pandas.core.frame.DataFrame'>\n",
      "RangeIndex: 10000 entries, 0 to 9999\n",
      "Data columns (total 14 columns):\n",
      " #   Column           Non-Null Count  Dtype  \n",
      "---  ------           --------------  -----  \n",
      " 0   RowNumber        10000 non-null  int64  \n",
      " 1   CustomerId       10000 non-null  int64  \n",
      " 2   Surname          10000 non-null  object \n",
      " 3   CreditScore      10000 non-null  int64  \n",
      " 4   Geography        10000 non-null  object \n",
      " 5   Gender           10000 non-null  object \n",
      " 6   Age              10000 non-null  int64  \n",
      " 7   Tenure           9091 non-null   float64\n",
      " 8   Balance          10000 non-null  float64\n",
      " 9   NumOfProducts    10000 non-null  int64  \n",
      " 10  HasCrCard        10000 non-null  int64  \n",
      " 11  IsActiveMember   10000 non-null  int64  \n",
      " 12  EstimatedSalary  10000 non-null  float64\n",
      " 13  Exited           10000 non-null  int64  \n",
      "dtypes: float64(3), int64(8), object(3)\n",
      "memory usage: 1.1+ MB\n",
      "\n",
      "Число дубликатов: 0\n",
      "\n",
      "Проверим пропуски в таблице:\n",
      "\n",
      " RowNumber            0\n",
      "CustomerId           0\n",
      "Surname              0\n",
      "CreditScore          0\n",
      "Geography            0\n",
      "Gender               0\n",
      "Age                  0\n",
      "Tenure             909\n",
      "Balance              0\n",
      "NumOfProducts        0\n",
      "HasCrCard            0\n",
      "IsActiveMember       0\n",
      "EstimatedSalary      0\n",
      "Exited               0\n",
      "dtype: int64\n"
     ]
    }
   ],
   "source": [
    "print(df.shape)\n",
    "df.info()\n",
    "print()\n",
    "print('Число дубликатов:', df.duplicated().sum())\n",
    "print()\n",
    "print(f\"Проверим пропуски в таблице:\\n\\n {df.isna().sum()}\")"
   ]
  },
  {
   "cell_type": "markdown",
   "metadata": {},
   "source": [
    "Дубликаты не обнаружены, но есть пропуски в 1м стобце"
   ]
  },
  {
   "cell_type": "code",
   "execution_count": 5,
   "metadata": {
    "scrolled": false
   },
   "outputs": [
    {
     "data": {
      "text/html": [
       "<div>\n",
       "<style scoped>\n",
       "    .dataframe tbody tr th:only-of-type {\n",
       "        vertical-align: middle;\n",
       "    }\n",
       "\n",
       "    .dataframe tbody tr th {\n",
       "        vertical-align: top;\n",
       "    }\n",
       "\n",
       "    .dataframe thead th {\n",
       "        text-align: right;\n",
       "    }\n",
       "</style>\n",
       "<table border=\"1\" class=\"dataframe\">\n",
       "  <thead>\n",
       "    <tr style=\"text-align: right;\">\n",
       "      <th></th>\n",
       "      <th>RowNumber</th>\n",
       "      <th>CustomerId</th>\n",
       "      <th>Surname</th>\n",
       "      <th>CreditScore</th>\n",
       "      <th>Geography</th>\n",
       "      <th>Gender</th>\n",
       "      <th>Age</th>\n",
       "      <th>Tenure</th>\n",
       "      <th>Balance</th>\n",
       "      <th>NumOfProducts</th>\n",
       "      <th>HasCrCard</th>\n",
       "      <th>IsActiveMember</th>\n",
       "      <th>EstimatedSalary</th>\n",
       "      <th>Exited</th>\n",
       "    </tr>\n",
       "  </thead>\n",
       "  <tbody>\n",
       "    <tr>\n",
       "      <th>0</th>\n",
       "      <td>1</td>\n",
       "      <td>15634602</td>\n",
       "      <td>Hargrave</td>\n",
       "      <td>619</td>\n",
       "      <td>France</td>\n",
       "      <td>Female</td>\n",
       "      <td>42</td>\n",
       "      <td>2.0</td>\n",
       "      <td>0.00</td>\n",
       "      <td>1</td>\n",
       "      <td>1</td>\n",
       "      <td>1</td>\n",
       "      <td>101348.88</td>\n",
       "      <td>1</td>\n",
       "    </tr>\n",
       "    <tr>\n",
       "      <th>1</th>\n",
       "      <td>2</td>\n",
       "      <td>15647311</td>\n",
       "      <td>Hill</td>\n",
       "      <td>608</td>\n",
       "      <td>Spain</td>\n",
       "      <td>Female</td>\n",
       "      <td>41</td>\n",
       "      <td>1.0</td>\n",
       "      <td>83807.86</td>\n",
       "      <td>1</td>\n",
       "      <td>0</td>\n",
       "      <td>1</td>\n",
       "      <td>112542.58</td>\n",
       "      <td>0</td>\n",
       "    </tr>\n",
       "    <tr>\n",
       "      <th>2</th>\n",
       "      <td>3</td>\n",
       "      <td>15619304</td>\n",
       "      <td>Onio</td>\n",
       "      <td>502</td>\n",
       "      <td>France</td>\n",
       "      <td>Female</td>\n",
       "      <td>42</td>\n",
       "      <td>8.0</td>\n",
       "      <td>159660.80</td>\n",
       "      <td>3</td>\n",
       "      <td>1</td>\n",
       "      <td>0</td>\n",
       "      <td>113931.57</td>\n",
       "      <td>1</td>\n",
       "    </tr>\n",
       "    <tr>\n",
       "      <th>3</th>\n",
       "      <td>4</td>\n",
       "      <td>15701354</td>\n",
       "      <td>Boni</td>\n",
       "      <td>699</td>\n",
       "      <td>France</td>\n",
       "      <td>Female</td>\n",
       "      <td>39</td>\n",
       "      <td>1.0</td>\n",
       "      <td>0.00</td>\n",
       "      <td>2</td>\n",
       "      <td>0</td>\n",
       "      <td>0</td>\n",
       "      <td>93826.63</td>\n",
       "      <td>0</td>\n",
       "    </tr>\n",
       "    <tr>\n",
       "      <th>4</th>\n",
       "      <td>5</td>\n",
       "      <td>15737888</td>\n",
       "      <td>Mitchell</td>\n",
       "      <td>850</td>\n",
       "      <td>Spain</td>\n",
       "      <td>Female</td>\n",
       "      <td>43</td>\n",
       "      <td>2.0</td>\n",
       "      <td>125510.82</td>\n",
       "      <td>1</td>\n",
       "      <td>1</td>\n",
       "      <td>1</td>\n",
       "      <td>79084.10</td>\n",
       "      <td>0</td>\n",
       "    </tr>\n",
       "    <tr>\n",
       "      <th>5</th>\n",
       "      <td>6</td>\n",
       "      <td>15574012</td>\n",
       "      <td>Chu</td>\n",
       "      <td>645</td>\n",
       "      <td>Spain</td>\n",
       "      <td>Male</td>\n",
       "      <td>44</td>\n",
       "      <td>8.0</td>\n",
       "      <td>113755.78</td>\n",
       "      <td>2</td>\n",
       "      <td>1</td>\n",
       "      <td>0</td>\n",
       "      <td>149756.71</td>\n",
       "      <td>1</td>\n",
       "    </tr>\n",
       "    <tr>\n",
       "      <th>6</th>\n",
       "      <td>7</td>\n",
       "      <td>15592531</td>\n",
       "      <td>Bartlett</td>\n",
       "      <td>822</td>\n",
       "      <td>France</td>\n",
       "      <td>Male</td>\n",
       "      <td>50</td>\n",
       "      <td>7.0</td>\n",
       "      <td>0.00</td>\n",
       "      <td>2</td>\n",
       "      <td>1</td>\n",
       "      <td>1</td>\n",
       "      <td>10062.80</td>\n",
       "      <td>0</td>\n",
       "    </tr>\n",
       "    <tr>\n",
       "      <th>7</th>\n",
       "      <td>8</td>\n",
       "      <td>15656148</td>\n",
       "      <td>Obinna</td>\n",
       "      <td>376</td>\n",
       "      <td>Germany</td>\n",
       "      <td>Female</td>\n",
       "      <td>29</td>\n",
       "      <td>4.0</td>\n",
       "      <td>115046.74</td>\n",
       "      <td>4</td>\n",
       "      <td>1</td>\n",
       "      <td>0</td>\n",
       "      <td>119346.88</td>\n",
       "      <td>1</td>\n",
       "    </tr>\n",
       "    <tr>\n",
       "      <th>8</th>\n",
       "      <td>9</td>\n",
       "      <td>15792365</td>\n",
       "      <td>He</td>\n",
       "      <td>501</td>\n",
       "      <td>France</td>\n",
       "      <td>Male</td>\n",
       "      <td>44</td>\n",
       "      <td>4.0</td>\n",
       "      <td>142051.07</td>\n",
       "      <td>2</td>\n",
       "      <td>0</td>\n",
       "      <td>1</td>\n",
       "      <td>74940.50</td>\n",
       "      <td>0</td>\n",
       "    </tr>\n",
       "    <tr>\n",
       "      <th>9</th>\n",
       "      <td>10</td>\n",
       "      <td>15592389</td>\n",
       "      <td>H?</td>\n",
       "      <td>684</td>\n",
       "      <td>France</td>\n",
       "      <td>Male</td>\n",
       "      <td>27</td>\n",
       "      <td>2.0</td>\n",
       "      <td>134603.88</td>\n",
       "      <td>1</td>\n",
       "      <td>1</td>\n",
       "      <td>1</td>\n",
       "      <td>71725.73</td>\n",
       "      <td>0</td>\n",
       "    </tr>\n",
       "    <tr>\n",
       "      <th>10</th>\n",
       "      <td>11</td>\n",
       "      <td>15767821</td>\n",
       "      <td>Bearce</td>\n",
       "      <td>528</td>\n",
       "      <td>France</td>\n",
       "      <td>Male</td>\n",
       "      <td>31</td>\n",
       "      <td>6.0</td>\n",
       "      <td>102016.72</td>\n",
       "      <td>2</td>\n",
       "      <td>0</td>\n",
       "      <td>0</td>\n",
       "      <td>80181.12</td>\n",
       "      <td>0</td>\n",
       "    </tr>\n",
       "    <tr>\n",
       "      <th>11</th>\n",
       "      <td>12</td>\n",
       "      <td>15737173</td>\n",
       "      <td>Andrews</td>\n",
       "      <td>497</td>\n",
       "      <td>Spain</td>\n",
       "      <td>Male</td>\n",
       "      <td>24</td>\n",
       "      <td>3.0</td>\n",
       "      <td>0.00</td>\n",
       "      <td>2</td>\n",
       "      <td>1</td>\n",
       "      <td>0</td>\n",
       "      <td>76390.01</td>\n",
       "      <td>0</td>\n",
       "    </tr>\n",
       "    <tr>\n",
       "      <th>12</th>\n",
       "      <td>13</td>\n",
       "      <td>15632264</td>\n",
       "      <td>Kay</td>\n",
       "      <td>476</td>\n",
       "      <td>France</td>\n",
       "      <td>Female</td>\n",
       "      <td>34</td>\n",
       "      <td>10.0</td>\n",
       "      <td>0.00</td>\n",
       "      <td>2</td>\n",
       "      <td>1</td>\n",
       "      <td>0</td>\n",
       "      <td>26260.98</td>\n",
       "      <td>0</td>\n",
       "    </tr>\n",
       "    <tr>\n",
       "      <th>13</th>\n",
       "      <td>14</td>\n",
       "      <td>15691483</td>\n",
       "      <td>Chin</td>\n",
       "      <td>549</td>\n",
       "      <td>France</td>\n",
       "      <td>Female</td>\n",
       "      <td>25</td>\n",
       "      <td>5.0</td>\n",
       "      <td>0.00</td>\n",
       "      <td>2</td>\n",
       "      <td>0</td>\n",
       "      <td>0</td>\n",
       "      <td>190857.79</td>\n",
       "      <td>0</td>\n",
       "    </tr>\n",
       "    <tr>\n",
       "      <th>14</th>\n",
       "      <td>15</td>\n",
       "      <td>15600882</td>\n",
       "      <td>Scott</td>\n",
       "      <td>635</td>\n",
       "      <td>Spain</td>\n",
       "      <td>Female</td>\n",
       "      <td>35</td>\n",
       "      <td>7.0</td>\n",
       "      <td>0.00</td>\n",
       "      <td>2</td>\n",
       "      <td>1</td>\n",
       "      <td>1</td>\n",
       "      <td>65951.65</td>\n",
       "      <td>0</td>\n",
       "    </tr>\n",
       "    <tr>\n",
       "      <th>15</th>\n",
       "      <td>16</td>\n",
       "      <td>15643966</td>\n",
       "      <td>Goforth</td>\n",
       "      <td>616</td>\n",
       "      <td>Germany</td>\n",
       "      <td>Male</td>\n",
       "      <td>45</td>\n",
       "      <td>3.0</td>\n",
       "      <td>143129.41</td>\n",
       "      <td>2</td>\n",
       "      <td>0</td>\n",
       "      <td>1</td>\n",
       "      <td>64327.26</td>\n",
       "      <td>0</td>\n",
       "    </tr>\n",
       "    <tr>\n",
       "      <th>16</th>\n",
       "      <td>17</td>\n",
       "      <td>15737452</td>\n",
       "      <td>Romeo</td>\n",
       "      <td>653</td>\n",
       "      <td>Germany</td>\n",
       "      <td>Male</td>\n",
       "      <td>58</td>\n",
       "      <td>1.0</td>\n",
       "      <td>132602.88</td>\n",
       "      <td>1</td>\n",
       "      <td>1</td>\n",
       "      <td>0</td>\n",
       "      <td>5097.67</td>\n",
       "      <td>1</td>\n",
       "    </tr>\n",
       "    <tr>\n",
       "      <th>17</th>\n",
       "      <td>18</td>\n",
       "      <td>15788218</td>\n",
       "      <td>Henderson</td>\n",
       "      <td>549</td>\n",
       "      <td>Spain</td>\n",
       "      <td>Female</td>\n",
       "      <td>24</td>\n",
       "      <td>9.0</td>\n",
       "      <td>0.00</td>\n",
       "      <td>2</td>\n",
       "      <td>1</td>\n",
       "      <td>1</td>\n",
       "      <td>14406.41</td>\n",
       "      <td>0</td>\n",
       "    </tr>\n",
       "    <tr>\n",
       "      <th>18</th>\n",
       "      <td>19</td>\n",
       "      <td>15661507</td>\n",
       "      <td>Muldrow</td>\n",
       "      <td>587</td>\n",
       "      <td>Spain</td>\n",
       "      <td>Male</td>\n",
       "      <td>45</td>\n",
       "      <td>6.0</td>\n",
       "      <td>0.00</td>\n",
       "      <td>1</td>\n",
       "      <td>0</td>\n",
       "      <td>0</td>\n",
       "      <td>158684.81</td>\n",
       "      <td>0</td>\n",
       "    </tr>\n",
       "    <tr>\n",
       "      <th>19</th>\n",
       "      <td>20</td>\n",
       "      <td>15568982</td>\n",
       "      <td>Hao</td>\n",
       "      <td>726</td>\n",
       "      <td>France</td>\n",
       "      <td>Female</td>\n",
       "      <td>24</td>\n",
       "      <td>6.0</td>\n",
       "      <td>0.00</td>\n",
       "      <td>2</td>\n",
       "      <td>1</td>\n",
       "      <td>1</td>\n",
       "      <td>54724.03</td>\n",
       "      <td>0</td>\n",
       "    </tr>\n",
       "  </tbody>\n",
       "</table>\n",
       "</div>"
      ],
      "text/plain": [
       "    RowNumber  CustomerId    Surname  CreditScore Geography  Gender  Age  \\\n",
       "0           1    15634602   Hargrave          619    France  Female   42   \n",
       "1           2    15647311       Hill          608     Spain  Female   41   \n",
       "2           3    15619304       Onio          502    France  Female   42   \n",
       "3           4    15701354       Boni          699    France  Female   39   \n",
       "4           5    15737888   Mitchell          850     Spain  Female   43   \n",
       "5           6    15574012        Chu          645     Spain    Male   44   \n",
       "6           7    15592531   Bartlett          822    France    Male   50   \n",
       "7           8    15656148     Obinna          376   Germany  Female   29   \n",
       "8           9    15792365         He          501    France    Male   44   \n",
       "9          10    15592389         H?          684    France    Male   27   \n",
       "10         11    15767821     Bearce          528    France    Male   31   \n",
       "11         12    15737173    Andrews          497     Spain    Male   24   \n",
       "12         13    15632264        Kay          476    France  Female   34   \n",
       "13         14    15691483       Chin          549    France  Female   25   \n",
       "14         15    15600882      Scott          635     Spain  Female   35   \n",
       "15         16    15643966    Goforth          616   Germany    Male   45   \n",
       "16         17    15737452      Romeo          653   Germany    Male   58   \n",
       "17         18    15788218  Henderson          549     Spain  Female   24   \n",
       "18         19    15661507    Muldrow          587     Spain    Male   45   \n",
       "19         20    15568982        Hao          726    France  Female   24   \n",
       "\n",
       "    Tenure    Balance  NumOfProducts  HasCrCard  IsActiveMember  \\\n",
       "0      2.0       0.00              1          1               1   \n",
       "1      1.0   83807.86              1          0               1   \n",
       "2      8.0  159660.80              3          1               0   \n",
       "3      1.0       0.00              2          0               0   \n",
       "4      2.0  125510.82              1          1               1   \n",
       "5      8.0  113755.78              2          1               0   \n",
       "6      7.0       0.00              2          1               1   \n",
       "7      4.0  115046.74              4          1               0   \n",
       "8      4.0  142051.07              2          0               1   \n",
       "9      2.0  134603.88              1          1               1   \n",
       "10     6.0  102016.72              2          0               0   \n",
       "11     3.0       0.00              2          1               0   \n",
       "12    10.0       0.00              2          1               0   \n",
       "13     5.0       0.00              2          0               0   \n",
       "14     7.0       0.00              2          1               1   \n",
       "15     3.0  143129.41              2          0               1   \n",
       "16     1.0  132602.88              1          1               0   \n",
       "17     9.0       0.00              2          1               1   \n",
       "18     6.0       0.00              1          0               0   \n",
       "19     6.0       0.00              2          1               1   \n",
       "\n",
       "    EstimatedSalary  Exited  \n",
       "0         101348.88       1  \n",
       "1         112542.58       0  \n",
       "2         113931.57       1  \n",
       "3          93826.63       0  \n",
       "4          79084.10       0  \n",
       "5         149756.71       1  \n",
       "6          10062.80       0  \n",
       "7         119346.88       1  \n",
       "8          74940.50       0  \n",
       "9          71725.73       0  \n",
       "10         80181.12       0  \n",
       "11         76390.01       0  \n",
       "12         26260.98       0  \n",
       "13        190857.79       0  \n",
       "14         65951.65       0  \n",
       "15         64327.26       0  \n",
       "16          5097.67       1  \n",
       "17         14406.41       0  \n",
       "18        158684.81       0  \n",
       "19         54724.03       0  "
      ]
     },
     "execution_count": 5,
     "metadata": {},
     "output_type": "execute_result"
    }
   ],
   "source": [
    "# Снимаем ограничения на количество столбцов\n",
    "pd.set_option('display.max_columns', None)\n",
    "\n",
    "# Увеличитм размер всех графиков\n",
    "plt.rcParams[\"figure.figsize\"] = (10,7)\n",
    "\n",
    "df.head(20)"
   ]
  },
  {
   "cell_type": "code",
   "execution_count": 6,
   "metadata": {
    "scrolled": false
   },
   "outputs": [
    {
     "data": {
      "text/html": [
       "<div>\n",
       "<style scoped>\n",
       "    .dataframe tbody tr th:only-of-type {\n",
       "        vertical-align: middle;\n",
       "    }\n",
       "\n",
       "    .dataframe tbody tr th {\n",
       "        vertical-align: top;\n",
       "    }\n",
       "\n",
       "    .dataframe thead th {\n",
       "        text-align: right;\n",
       "    }\n",
       "</style>\n",
       "<table border=\"1\" class=\"dataframe\">\n",
       "  <thead>\n",
       "    <tr style=\"text-align: right;\">\n",
       "      <th></th>\n",
       "      <th>RowNumber</th>\n",
       "      <th>CustomerId</th>\n",
       "      <th>CreditScore</th>\n",
       "      <th>Age</th>\n",
       "      <th>Tenure</th>\n",
       "      <th>Balance</th>\n",
       "      <th>NumOfProducts</th>\n",
       "      <th>HasCrCard</th>\n",
       "      <th>IsActiveMember</th>\n",
       "      <th>EstimatedSalary</th>\n",
       "      <th>Exited</th>\n",
       "    </tr>\n",
       "  </thead>\n",
       "  <tbody>\n",
       "    <tr>\n",
       "      <th>count</th>\n",
       "      <td>10000.00000</td>\n",
       "      <td>1.000000e+04</td>\n",
       "      <td>10000.000000</td>\n",
       "      <td>10000.000000</td>\n",
       "      <td>9091.000000</td>\n",
       "      <td>10000.000000</td>\n",
       "      <td>10000.000000</td>\n",
       "      <td>10000.00000</td>\n",
       "      <td>10000.000000</td>\n",
       "      <td>10000.000000</td>\n",
       "      <td>10000.000000</td>\n",
       "    </tr>\n",
       "    <tr>\n",
       "      <th>mean</th>\n",
       "      <td>5000.50000</td>\n",
       "      <td>1.569094e+07</td>\n",
       "      <td>650.528800</td>\n",
       "      <td>38.921800</td>\n",
       "      <td>4.997690</td>\n",
       "      <td>76485.889288</td>\n",
       "      <td>1.530200</td>\n",
       "      <td>0.70550</td>\n",
       "      <td>0.515100</td>\n",
       "      <td>100090.239881</td>\n",
       "      <td>0.203700</td>\n",
       "    </tr>\n",
       "    <tr>\n",
       "      <th>std</th>\n",
       "      <td>2886.89568</td>\n",
       "      <td>7.193619e+04</td>\n",
       "      <td>96.653299</td>\n",
       "      <td>10.487806</td>\n",
       "      <td>2.894723</td>\n",
       "      <td>62397.405202</td>\n",
       "      <td>0.581654</td>\n",
       "      <td>0.45584</td>\n",
       "      <td>0.499797</td>\n",
       "      <td>57510.492818</td>\n",
       "      <td>0.402769</td>\n",
       "    </tr>\n",
       "    <tr>\n",
       "      <th>min</th>\n",
       "      <td>1.00000</td>\n",
       "      <td>1.556570e+07</td>\n",
       "      <td>350.000000</td>\n",
       "      <td>18.000000</td>\n",
       "      <td>0.000000</td>\n",
       "      <td>0.000000</td>\n",
       "      <td>1.000000</td>\n",
       "      <td>0.00000</td>\n",
       "      <td>0.000000</td>\n",
       "      <td>11.580000</td>\n",
       "      <td>0.000000</td>\n",
       "    </tr>\n",
       "    <tr>\n",
       "      <th>25%</th>\n",
       "      <td>2500.75000</td>\n",
       "      <td>1.562853e+07</td>\n",
       "      <td>584.000000</td>\n",
       "      <td>32.000000</td>\n",
       "      <td>2.000000</td>\n",
       "      <td>0.000000</td>\n",
       "      <td>1.000000</td>\n",
       "      <td>0.00000</td>\n",
       "      <td>0.000000</td>\n",
       "      <td>51002.110000</td>\n",
       "      <td>0.000000</td>\n",
       "    </tr>\n",
       "    <tr>\n",
       "      <th>50%</th>\n",
       "      <td>5000.50000</td>\n",
       "      <td>1.569074e+07</td>\n",
       "      <td>652.000000</td>\n",
       "      <td>37.000000</td>\n",
       "      <td>5.000000</td>\n",
       "      <td>97198.540000</td>\n",
       "      <td>1.000000</td>\n",
       "      <td>1.00000</td>\n",
       "      <td>1.000000</td>\n",
       "      <td>100193.915000</td>\n",
       "      <td>0.000000</td>\n",
       "    </tr>\n",
       "    <tr>\n",
       "      <th>75%</th>\n",
       "      <td>7500.25000</td>\n",
       "      <td>1.575323e+07</td>\n",
       "      <td>718.000000</td>\n",
       "      <td>44.000000</td>\n",
       "      <td>7.000000</td>\n",
       "      <td>127644.240000</td>\n",
       "      <td>2.000000</td>\n",
       "      <td>1.00000</td>\n",
       "      <td>1.000000</td>\n",
       "      <td>149388.247500</td>\n",
       "      <td>0.000000</td>\n",
       "    </tr>\n",
       "    <tr>\n",
       "      <th>max</th>\n",
       "      <td>10000.00000</td>\n",
       "      <td>1.581569e+07</td>\n",
       "      <td>850.000000</td>\n",
       "      <td>92.000000</td>\n",
       "      <td>10.000000</td>\n",
       "      <td>250898.090000</td>\n",
       "      <td>4.000000</td>\n",
       "      <td>1.00000</td>\n",
       "      <td>1.000000</td>\n",
       "      <td>199992.480000</td>\n",
       "      <td>1.000000</td>\n",
       "    </tr>\n",
       "  </tbody>\n",
       "</table>\n",
       "</div>"
      ],
      "text/plain": [
       "         RowNumber    CustomerId   CreditScore           Age       Tenure  \\\n",
       "count  10000.00000  1.000000e+04  10000.000000  10000.000000  9091.000000   \n",
       "mean    5000.50000  1.569094e+07    650.528800     38.921800     4.997690   \n",
       "std     2886.89568  7.193619e+04     96.653299     10.487806     2.894723   \n",
       "min        1.00000  1.556570e+07    350.000000     18.000000     0.000000   \n",
       "25%     2500.75000  1.562853e+07    584.000000     32.000000     2.000000   \n",
       "50%     5000.50000  1.569074e+07    652.000000     37.000000     5.000000   \n",
       "75%     7500.25000  1.575323e+07    718.000000     44.000000     7.000000   \n",
       "max    10000.00000  1.581569e+07    850.000000     92.000000    10.000000   \n",
       "\n",
       "             Balance  NumOfProducts    HasCrCard  IsActiveMember  \\\n",
       "count   10000.000000   10000.000000  10000.00000    10000.000000   \n",
       "mean    76485.889288       1.530200      0.70550        0.515100   \n",
       "std     62397.405202       0.581654      0.45584        0.499797   \n",
       "min         0.000000       1.000000      0.00000        0.000000   \n",
       "25%         0.000000       1.000000      0.00000        0.000000   \n",
       "50%     97198.540000       1.000000      1.00000        1.000000   \n",
       "75%    127644.240000       2.000000      1.00000        1.000000   \n",
       "max    250898.090000       4.000000      1.00000        1.000000   \n",
       "\n",
       "       EstimatedSalary        Exited  \n",
       "count     10000.000000  10000.000000  \n",
       "mean     100090.239881      0.203700  \n",
       "std       57510.492818      0.402769  \n",
       "min          11.580000      0.000000  \n",
       "25%       51002.110000      0.000000  \n",
       "50%      100193.915000      0.000000  \n",
       "75%      149388.247500      0.000000  \n",
       "max      199992.480000      1.000000  "
      ]
     },
     "execution_count": 6,
     "metadata": {},
     "output_type": "execute_result"
    }
   ],
   "source": [
    "df.describe()"
   ]
  },
  {
   "cell_type": "code",
   "execution_count": 7,
   "metadata": {},
   "outputs": [
    {
     "name": "stdout",
     "output_type": "stream",
     "text": [
      "[ 2.  1.  8.  7.  4.  6.  3. 10.  5.  9.  0. nan]\n"
     ]
    }
   ],
   "source": [
    "print(df['Tenure'].unique())"
   ]
  },
  {
   "cell_type": "markdown",
   "metadata": {},
   "source": [
    "После того как загрузили данные, мы можем сделать выводы:\n",
    " * в столбце \"Tenure\" обнаружены пропуски\n",
    " * тип данных во всех столбцах корректный. Столбец \"Tenure\" можно перевести в целочислительный тип  \n",
    " * присутствуют столбцы, которые не повлияют на ход исследования: RowNumber, CustomerId, Surname \n",
    " * название столбцов можно привести к хорошему стилю"
   ]
  },
  {
   "cell_type": "code",
   "execution_count": 8,
   "metadata": {
    "scrolled": true
   },
   "outputs": [
    {
     "name": "stdout",
     "output_type": "stream",
     "text": [
      "Tenure\n",
      "1.0     952\n",
      "2.0     950\n",
      "8.0     933\n",
      "3.0     928\n",
      "5.0     927\n",
      "7.0     925\n",
      "4.0     885\n",
      "9.0     882\n",
      "6.0     881\n",
      "10.0    446\n",
      "0.0     382\n",
      "Name: count, dtype: int64\n"
     ]
    }
   ],
   "source": [
    "print(df['Tenure'].value_counts())"
   ]
  },
  {
   "cell_type": "code",
   "execution_count": 9,
   "metadata": {},
   "outputs": [
    {
     "name": "stdout",
     "output_type": "stream",
     "text": [
      "Всего пропущенных значений: 909\n"
     ]
    }
   ],
   "source": [
    "print(f\"Всего пропущенных значений: {df['Tenure'].isna().sum()}\")"
   ]
  },
  {
   "cell_type": "markdown",
   "metadata": {},
   "source": [
    "Пропуски в столбце \"Tenure\" составляют < 10% от всеех данных, поэтому чтобы не влиять на другие данные заменой, пропущенные значения удалим и переведем в целочислительный тип данных"
   ]
  },
  {
   "cell_type": "code",
   "execution_count": 10,
   "metadata": {},
   "outputs": [
    {
     "name": "stdout",
     "output_type": "stream",
     "text": [
      "Всего пропущенных значений: 0\n",
      "Tenure\n",
      "1     952\n",
      "2     950\n",
      "8     933\n",
      "3     928\n",
      "5     927\n",
      "7     925\n",
      "4     885\n",
      "9     882\n",
      "6     881\n",
      "10    446\n",
      "0     382\n",
      "Name: count, dtype: int64\n"
     ]
    }
   ],
   "source": [
    "df = df.dropna()\n",
    "print(f\"Всего пропущенных значений: {df['Tenure'].isna().sum()}\")\n",
    "df['Tenure'] = df['Tenure'].astype('int')\n",
    "print(df['Tenure'].value_counts())"
   ]
  },
  {
   "cell_type": "markdown",
   "metadata": {},
   "source": [
    "Т.к. столбцы \"CustomerId\" и \"Surname\" содержат персональную информацию о клиентах и их идентификатор. Эта информация не нужна для обучения модели. В столбце \"RowNumber\" содержится порядковый номер, он также не требудется для обучения модели."
   ]
  },
  {
   "cell_type": "code",
   "execution_count": 11,
   "metadata": {},
   "outputs": [],
   "source": [
    "# Удалим ненужные столбцы\n",
    "df = df.drop(columns=['RowNumber', 'CustomerId', 'Surname'])"
   ]
  },
  {
   "cell_type": "code",
   "execution_count": 12,
   "metadata": {},
   "outputs": [],
   "source": [
    "# Приведем названия столбцов к хорошему стилю\n",
    "df = clean_columns(df)"
   ]
  },
  {
   "cell_type": "code",
   "execution_count": 13,
   "metadata": {},
   "outputs": [
    {
     "data": {
      "text/html": [
       "<div>\n",
       "<style scoped>\n",
       "    .dataframe tbody tr th:only-of-type {\n",
       "        vertical-align: middle;\n",
       "    }\n",
       "\n",
       "    .dataframe tbody tr th {\n",
       "        vertical-align: top;\n",
       "    }\n",
       "\n",
       "    .dataframe thead th {\n",
       "        text-align: right;\n",
       "    }\n",
       "</style>\n",
       "<table border=\"1\" class=\"dataframe\">\n",
       "  <thead>\n",
       "    <tr style=\"text-align: right;\">\n",
       "      <th></th>\n",
       "      <th>credit_score</th>\n",
       "      <th>geography</th>\n",
       "      <th>gender</th>\n",
       "      <th>age</th>\n",
       "      <th>tenure</th>\n",
       "      <th>balance</th>\n",
       "      <th>num_of_products</th>\n",
       "      <th>has_cr_card</th>\n",
       "      <th>is_active_member</th>\n",
       "      <th>estimated_salary</th>\n",
       "      <th>exited</th>\n",
       "    </tr>\n",
       "  </thead>\n",
       "  <tbody>\n",
       "    <tr>\n",
       "      <th>0</th>\n",
       "      <td>619</td>\n",
       "      <td>France</td>\n",
       "      <td>Female</td>\n",
       "      <td>42</td>\n",
       "      <td>2</td>\n",
       "      <td>0.00</td>\n",
       "      <td>1</td>\n",
       "      <td>1</td>\n",
       "      <td>1</td>\n",
       "      <td>101348.88</td>\n",
       "      <td>1</td>\n",
       "    </tr>\n",
       "    <tr>\n",
       "      <th>1</th>\n",
       "      <td>608</td>\n",
       "      <td>Spain</td>\n",
       "      <td>Female</td>\n",
       "      <td>41</td>\n",
       "      <td>1</td>\n",
       "      <td>83807.86</td>\n",
       "      <td>1</td>\n",
       "      <td>0</td>\n",
       "      <td>1</td>\n",
       "      <td>112542.58</td>\n",
       "      <td>0</td>\n",
       "    </tr>\n",
       "    <tr>\n",
       "      <th>2</th>\n",
       "      <td>502</td>\n",
       "      <td>France</td>\n",
       "      <td>Female</td>\n",
       "      <td>42</td>\n",
       "      <td>8</td>\n",
       "      <td>159660.80</td>\n",
       "      <td>3</td>\n",
       "      <td>1</td>\n",
       "      <td>0</td>\n",
       "      <td>113931.57</td>\n",
       "      <td>1</td>\n",
       "    </tr>\n",
       "    <tr>\n",
       "      <th>3</th>\n",
       "      <td>699</td>\n",
       "      <td>France</td>\n",
       "      <td>Female</td>\n",
       "      <td>39</td>\n",
       "      <td>1</td>\n",
       "      <td>0.00</td>\n",
       "      <td>2</td>\n",
       "      <td>0</td>\n",
       "      <td>0</td>\n",
       "      <td>93826.63</td>\n",
       "      <td>0</td>\n",
       "    </tr>\n",
       "    <tr>\n",
       "      <th>4</th>\n",
       "      <td>850</td>\n",
       "      <td>Spain</td>\n",
       "      <td>Female</td>\n",
       "      <td>43</td>\n",
       "      <td>2</td>\n",
       "      <td>125510.82</td>\n",
       "      <td>1</td>\n",
       "      <td>1</td>\n",
       "      <td>1</td>\n",
       "      <td>79084.10</td>\n",
       "      <td>0</td>\n",
       "    </tr>\n",
       "    <tr>\n",
       "      <th>...</th>\n",
       "      <td>...</td>\n",
       "      <td>...</td>\n",
       "      <td>...</td>\n",
       "      <td>...</td>\n",
       "      <td>...</td>\n",
       "      <td>...</td>\n",
       "      <td>...</td>\n",
       "      <td>...</td>\n",
       "      <td>...</td>\n",
       "      <td>...</td>\n",
       "      <td>...</td>\n",
       "    </tr>\n",
       "    <tr>\n",
       "      <th>9994</th>\n",
       "      <td>800</td>\n",
       "      <td>France</td>\n",
       "      <td>Female</td>\n",
       "      <td>29</td>\n",
       "      <td>2</td>\n",
       "      <td>0.00</td>\n",
       "      <td>2</td>\n",
       "      <td>0</td>\n",
       "      <td>0</td>\n",
       "      <td>167773.55</td>\n",
       "      <td>0</td>\n",
       "    </tr>\n",
       "    <tr>\n",
       "      <th>9995</th>\n",
       "      <td>771</td>\n",
       "      <td>France</td>\n",
       "      <td>Male</td>\n",
       "      <td>39</td>\n",
       "      <td>5</td>\n",
       "      <td>0.00</td>\n",
       "      <td>2</td>\n",
       "      <td>1</td>\n",
       "      <td>0</td>\n",
       "      <td>96270.64</td>\n",
       "      <td>0</td>\n",
       "    </tr>\n",
       "    <tr>\n",
       "      <th>9996</th>\n",
       "      <td>516</td>\n",
       "      <td>France</td>\n",
       "      <td>Male</td>\n",
       "      <td>35</td>\n",
       "      <td>10</td>\n",
       "      <td>57369.61</td>\n",
       "      <td>1</td>\n",
       "      <td>1</td>\n",
       "      <td>1</td>\n",
       "      <td>101699.77</td>\n",
       "      <td>0</td>\n",
       "    </tr>\n",
       "    <tr>\n",
       "      <th>9997</th>\n",
       "      <td>709</td>\n",
       "      <td>France</td>\n",
       "      <td>Female</td>\n",
       "      <td>36</td>\n",
       "      <td>7</td>\n",
       "      <td>0.00</td>\n",
       "      <td>1</td>\n",
       "      <td>0</td>\n",
       "      <td>1</td>\n",
       "      <td>42085.58</td>\n",
       "      <td>1</td>\n",
       "    </tr>\n",
       "    <tr>\n",
       "      <th>9998</th>\n",
       "      <td>772</td>\n",
       "      <td>Germany</td>\n",
       "      <td>Male</td>\n",
       "      <td>42</td>\n",
       "      <td>3</td>\n",
       "      <td>75075.31</td>\n",
       "      <td>2</td>\n",
       "      <td>1</td>\n",
       "      <td>0</td>\n",
       "      <td>92888.52</td>\n",
       "      <td>1</td>\n",
       "    </tr>\n",
       "  </tbody>\n",
       "</table>\n",
       "<p>9091 rows × 11 columns</p>\n",
       "</div>"
      ],
      "text/plain": [
       "      credit_score geography  gender  age  tenure    balance  num_of_products  \\\n",
       "0              619    France  Female   42       2       0.00                1   \n",
       "1              608     Spain  Female   41       1   83807.86                1   \n",
       "2              502    France  Female   42       8  159660.80                3   \n",
       "3              699    France  Female   39       1       0.00                2   \n",
       "4              850     Spain  Female   43       2  125510.82                1   \n",
       "...            ...       ...     ...  ...     ...        ...              ...   \n",
       "9994           800    France  Female   29       2       0.00                2   \n",
       "9995           771    France    Male   39       5       0.00                2   \n",
       "9996           516    France    Male   35      10   57369.61                1   \n",
       "9997           709    France  Female   36       7       0.00                1   \n",
       "9998           772   Germany    Male   42       3   75075.31                2   \n",
       "\n",
       "      has_cr_card  is_active_member  estimated_salary  exited  \n",
       "0               1                 1         101348.88       1  \n",
       "1               0                 1         112542.58       0  \n",
       "2               1                 0         113931.57       1  \n",
       "3               0                 0          93826.63       0  \n",
       "4               1                 1          79084.10       0  \n",
       "...           ...               ...               ...     ...  \n",
       "9994            0                 0         167773.55       0  \n",
       "9995            1                 0          96270.64       0  \n",
       "9996            1                 1         101699.77       0  \n",
       "9997            0                 1          42085.58       1  \n",
       "9998            1                 0          92888.52       1  \n",
       "\n",
       "[9091 rows x 11 columns]"
      ]
     },
     "execution_count": 13,
     "metadata": {},
     "output_type": "execute_result"
    }
   ],
   "source": [
    "df"
   ]
  },
  {
   "cell_type": "code",
   "execution_count": 14,
   "metadata": {
    "scrolled": false
   },
   "outputs": [
    {
     "name": "stdout",
     "output_type": "stream",
     "text": [
      "<class 'pandas.core.frame.DataFrame'>\n",
      "Index: 9091 entries, 0 to 9998\n",
      "Data columns (total 11 columns):\n",
      " #   Column            Non-Null Count  Dtype  \n",
      "---  ------            --------------  -----  \n",
      " 0   credit_score      9091 non-null   int64  \n",
      " 1   geography         9091 non-null   object \n",
      " 2   gender            9091 non-null   object \n",
      " 3   age               9091 non-null   int64  \n",
      " 4   tenure            9091 non-null   int64  \n",
      " 5   balance           9091 non-null   float64\n",
      " 6   num_of_products   9091 non-null   int64  \n",
      " 7   has_cr_card       9091 non-null   int64  \n",
      " 8   is_active_member  9091 non-null   int64  \n",
      " 9   estimated_salary  9091 non-null   float64\n",
      " 10  exited            9091 non-null   int64  \n",
      "dtypes: float64(2), int64(7), object(2)\n",
      "memory usage: 852.3+ KB\n"
     ]
    }
   ],
   "source": [
    "df.info()"
   ]
  },
  {
   "cell_type": "markdown",
   "metadata": {},
   "source": [
    "#### Вывод"
   ]
  },
  {
   "cell_type": "markdown",
   "metadata": {},
   "source": [
    "Мы провели подготовку данных к исследованию.\n",
    "Удалили пропуски, изменили тип данных, удалили не нужные для исследования столбцы и скорректировали названия столбцов."
   ]
  },
  {
   "cell_type": "markdown",
   "metadata": {},
   "source": [
    "## Исследование задачи"
   ]
  },
  {
   "cell_type": "markdown",
   "metadata": {
    "id": "CyZS1JgEokYS"
   },
   "source": [
    "Посмотрим на гистограмму значений оттока и оставшихся клиентов:"
   ]
  },
  {
   "cell_type": "code",
   "execution_count": 15,
   "metadata": {
    "colab": {
     "base_uri": "https://localhost:8080/",
     "height": 403
    },
    "id": "2HsXsQlJtwWG",
    "outputId": "c37d7a33-58ae-4611-d01b-4199e10fac3a",
    "scrolled": false
   },
   "outputs": [
    {
     "data": {
      "image/png": "[encoded data removed]",
      "text/plain": [
       "<Figure size 720x504 with 1 Axes>"
      ]
     },
     "metadata": {
      "needs_background": "light"
     },
     "output_type": "display_data"
    }
   ],
   "source": [
    "df['exited'].value_counts().plot(kind='bar',grid=True,title='Соотношение оттока и оставшихся клиентов\\n', \n",
    "                                 xlabel='\\nФакт оттока', ylabel='Количество\\n');"
   ]
  },
  {
   "cell_type": "markdown",
   "metadata": {
    "id": "GOSkFcAyo7YW"
   },
   "source": [
    "Соотношение оттока и тех кто остался 1:4. Можем сделать вывод, что присутствует дисбаланс в данных."
   ]
  },
  {
   "cell_type": "markdown",
   "metadata": {},
   "source": [
    "Посмотрим на зависимость возраста и оттока клиентов: "
   ]
  },
  {
   "cell_type": "code",
   "execution_count": 16,
   "metadata": {},
   "outputs": [
    {
     "data": {
      "image/png": "[encoded data removed]",
      "text/plain": [
       "<Figure size 720x504 with 1 Axes>"
      ]
     },
     "metadata": {
      "needs_background": "light"
     },
     "output_type": "display_data"
    }
   ],
   "source": [
    "df.groupby('age')['exited'].sum().plot(kind='bar', title='Распределение возраста и оттока клиентов\\n',\n",
    "                                       xlabel='\\nВозраст', ylabel='Количество\\n');"
   ]
  },
  {
   "cell_type": "markdown",
   "metadata": {},
   "source": [
    "Распределение немного скошено вправо, больше всего уходят в возрасте от 40 до 50 лет.\n",
    "\n",
    "Посмотрим на распределение оттока и времени обслуживания в банке:"
   ]
  },
  {
   "cell_type": "code",
   "execution_count": 17,
   "metadata": {},
   "outputs": [
    {
     "data": {
      "image/png": "[encoded data removed]",
      "text/plain": [
       "<Figure size 720x504 with 1 Axes>"
      ]
     },
     "metadata": {
      "needs_background": "light"
     },
     "output_type": "display_data"
    }
   ],
   "source": [
    "(\n",
    "df.groupby('tenure')['exited'].count()\n",
    ".plot(kind='bar', title='Распределение оттока и времени обслуживания в банке\\n', \n",
    "      xlabel='\\nBремя обслуживания в банке', ylabel='Колличество\\n')\n",
    ");"
   ]
  },
  {
   "cell_type": "markdown",
   "metadata": {},
   "source": [
    "Распределение практически ровное, выбивается только 2 значения: \"новые\" клиенты и клиерты, которые обслуживаются 10 лет"
   ]
  },
  {
   "cell_type": "code",
   "execution_count": 18,
   "metadata": {},
   "outputs": [],
   "source": [
    "# Определим признаки и выделим целевой признак\n",
    "features = df.drop('exited', axis=1)\n",
    "target = df['exited']"
   ]
  },
  {
   "cell_type": "markdown",
   "metadata": {},
   "source": [
    "Разобьем данные на три выборки: обучающую, валидационную и тестовую. Размеры тестового и валидационного наборов равны.    \n",
    "Исходные данные разобьем в соотношении 3:1:1.\n",
    "Обучающая выборка будет сосотоять из 60%. Валидационная и тестовая по 20%."
   ]
  },
  {
   "cell_type": "code",
   "execution_count": 19,
   "metadata": {},
   "outputs": [
    {
     "name": "stdout",
     "output_type": "stream",
     "text": [
      "Размеры тренировочной выборки (5454, 10)\n",
      "Размеры валидационной выборки (1818, 10)\n",
      "Размеры тестовой выборки (1819, 10)\n"
     ]
    }
   ],
   "source": [
    "# Сперва выделим обучающую выборку\n",
    "features_train, features_validtest, target_train, target_validtest = train_test_split(\n",
    "    features, target, test_size=0.4, random_state=12345)\n",
    "# Теперь разделим на валидационную и тестовую выборки\n",
    "features_valid, features_test, target_valid, target_test = train_test_split(\n",
    "    features_validtest, target_validtest, test_size=0.5, random_state=12345)\n",
    "print(f\"Размеры тренировочной выборки {features_train.shape}\")\n",
    "print(f\"Размеры валидационной выборки {features_valid.shape}\")\n",
    "print(f\"Размеры тестовой выборки {features_test.shape}\")"
   ]
  },
  {
   "cell_type": "markdown",
   "metadata": {},
   "source": [
    "Изменим категориальные данные на количественные, подготовим данные методом OneHotEncoder "
   ]
  },
  {
   "cell_type": "code",
   "execution_count": 20,
   "metadata": {
    "scrolled": true
   },
   "outputs": [
    {
     "data": {
      "text/html": [
       "<div>\n",
       "<style scoped>\n",
       "    .dataframe tbody tr th:only-of-type {\n",
       "        vertical-align: middle;\n",
       "    }\n",
       "\n",
       "    .dataframe tbody tr th {\n",
       "        vertical-align: top;\n",
       "    }\n",
       "\n",
       "    .dataframe thead th {\n",
       "        text-align: right;\n",
       "    }\n",
       "</style>\n",
       "<table border=\"1\" class=\"dataframe\">\n",
       "  <thead>\n",
       "    <tr style=\"text-align: right;\">\n",
       "      <th></th>\n",
       "      <th>0</th>\n",
       "      <th>1</th>\n",
       "      <th>2</th>\n",
       "    </tr>\n",
       "  </thead>\n",
       "  <tbody>\n",
       "    <tr>\n",
       "      <th>0</th>\n",
       "      <td>0.0</td>\n",
       "      <td>0.0</td>\n",
       "      <td>0.0</td>\n",
       "    </tr>\n",
       "    <tr>\n",
       "      <th>1</th>\n",
       "      <td>0.0</td>\n",
       "      <td>1.0</td>\n",
       "      <td>0.0</td>\n",
       "    </tr>\n",
       "    <tr>\n",
       "      <th>2</th>\n",
       "      <td>0.0</td>\n",
       "      <td>0.0</td>\n",
       "      <td>0.0</td>\n",
       "    </tr>\n",
       "    <tr>\n",
       "      <th>3</th>\n",
       "      <td>0.0</td>\n",
       "      <td>0.0</td>\n",
       "      <td>0.0</td>\n",
       "    </tr>\n",
       "    <tr>\n",
       "      <th>4</th>\n",
       "      <td>0.0</td>\n",
       "      <td>1.0</td>\n",
       "      <td>0.0</td>\n",
       "    </tr>\n",
       "    <tr>\n",
       "      <th>...</th>\n",
       "      <td>...</td>\n",
       "      <td>...</td>\n",
       "      <td>...</td>\n",
       "    </tr>\n",
       "    <tr>\n",
       "      <th>9994</th>\n",
       "      <td>0.0</td>\n",
       "      <td>0.0</td>\n",
       "      <td>0.0</td>\n",
       "    </tr>\n",
       "    <tr>\n",
       "      <th>9995</th>\n",
       "      <td>0.0</td>\n",
       "      <td>0.0</td>\n",
       "      <td>1.0</td>\n",
       "    </tr>\n",
       "    <tr>\n",
       "      <th>9996</th>\n",
       "      <td>0.0</td>\n",
       "      <td>0.0</td>\n",
       "      <td>1.0</td>\n",
       "    </tr>\n",
       "    <tr>\n",
       "      <th>9997</th>\n",
       "      <td>0.0</td>\n",
       "      <td>0.0</td>\n",
       "      <td>0.0</td>\n",
       "    </tr>\n",
       "    <tr>\n",
       "      <th>9998</th>\n",
       "      <td>1.0</td>\n",
       "      <td>0.0</td>\n",
       "      <td>1.0</td>\n",
       "    </tr>\n",
       "  </tbody>\n",
       "</table>\n",
       "<p>9091 rows × 3 columns</p>\n",
       "</div>"
      ],
      "text/plain": [
       "        0    1    2\n",
       "0     0.0  0.0  0.0\n",
       "1     0.0  1.0  0.0\n",
       "2     0.0  0.0  0.0\n",
       "3     0.0  0.0  0.0\n",
       "4     0.0  1.0  0.0\n",
       "...   ...  ...  ...\n",
       "9994  0.0  0.0  0.0\n",
       "9995  0.0  0.0  1.0\n",
       "9996  0.0  0.0  1.0\n",
       "9997  0.0  0.0  0.0\n",
       "9998  1.0  0.0  1.0\n",
       "\n",
       "[9091 rows x 3 columns]"
      ]
     },
     "execution_count": 20,
     "metadata": {},
     "output_type": "execute_result"
    }
   ],
   "source": [
    "encoder = OneHotEncoder(sparse = False, drop='first', handle_unknown='ignore')\n",
    "X_encoded = encoder.fit_transform(df[['geography', 'gender']])\n",
    "\n",
    "# Формирование DataFrame из закодированных выборок с явным указанием индексов исходной выборки:\n",
    "\n",
    "df_encoded = pd.DataFrame(X_encoded, index=df[['geography', 'gender']].index)\n",
    "df_encoded"
   ]
  },
  {
   "cell_type": "code",
   "execution_count": 21,
   "metadata": {},
   "outputs": [],
   "source": [
    "encoder = OneHotEncoder(sparse = False, drop='first', handle_unknown='ignore')\n",
    "X_encoded_train = encoder.fit_transform(df[['geography', 'gender']])\n",
    "X_encoded_valid = encoder.transform(df[['geography', 'gender']])\n",
    "X_encoded_test = encoder.transform(df[['geography', 'gender']])\n",
    "\n",
    "# Формирование DataFrame из закодированных выборок с явным указанием индексов исходной выборки:\n",
    "\n",
    "df_train = pd.DataFrame(X_encoded_train, index=df[['geography', 'gender']].index)\n",
    "df_valid = pd.DataFrame(X_encoded_valid, index=df[['geography', 'gender']].index)\n",
    "df_test = pd.DataFrame(X_encoded_test, index=df[['geography', 'gender']].index)"
   ]
  },
  {
   "cell_type": "code",
   "execution_count": 22,
   "metadata": {},
   "outputs": [],
   "source": [
    "df_train.columns = encoder.get_feature_names_out()\n",
    "df_valid.columns = encoder.get_feature_names_out()\n",
    "df_test.columns = encoder.get_feature_names_out()"
   ]
  },
  {
   "cell_type": "code",
   "execution_count": 23,
   "metadata": {},
   "outputs": [],
   "source": [
    "features_train = features_train.join(df_train)\n",
    "features_train.drop(['geography', 'gender'], axis = 1, inplace = True)\n",
    "\n",
    "features_valid = features_valid.join(df_valid)\n",
    "features_valid.drop(['geography', 'gender'], axis = 1, inplace = True)\n",
    "\n",
    "features_test = features_test.join(df_test)\n",
    "features_test.drop(['geography', 'gender'], axis = 1, inplace = True)"
   ]
  },
  {
   "cell_type": "code",
   "execution_count": 24,
   "metadata": {},
   "outputs": [
    {
     "data": {
      "text/html": [
       "<div>\n",
       "<style scoped>\n",
       "    .dataframe tbody tr th:only-of-type {\n",
       "        vertical-align: middle;\n",
       "    }\n",
       "\n",
       "    .dataframe tbody tr th {\n",
       "        vertical-align: top;\n",
       "    }\n",
       "\n",
       "    .dataframe thead th {\n",
       "        text-align: right;\n",
       "    }\n",
       "</style>\n",
       "<table border=\"1\" class=\"dataframe\">\n",
       "  <thead>\n",
       "    <tr style=\"text-align: right;\">\n",
       "      <th></th>\n",
       "      <th>credit_score</th>\n",
       "      <th>age</th>\n",
       "      <th>tenure</th>\n",
       "      <th>balance</th>\n",
       "      <th>num_of_products</th>\n",
       "      <th>has_cr_card</th>\n",
       "      <th>is_active_member</th>\n",
       "      <th>estimated_salary</th>\n",
       "      <th>geography_Germany</th>\n",
       "      <th>geography_Spain</th>\n",
       "      <th>gender_Male</th>\n",
       "    </tr>\n",
       "  </thead>\n",
       "  <tbody>\n",
       "    <tr>\n",
       "      <th>9344</th>\n",
       "      <td>727</td>\n",
       "      <td>28</td>\n",
       "      <td>2</td>\n",
       "      <td>110997.76</td>\n",
       "      <td>1</td>\n",
       "      <td>1</td>\n",
       "      <td>0</td>\n",
       "      <td>101433.76</td>\n",
       "      <td>0.0</td>\n",
       "      <td>0.0</td>\n",
       "      <td>0.0</td>\n",
       "    </tr>\n",
       "    <tr>\n",
       "      <th>3796</th>\n",
       "      <td>537</td>\n",
       "      <td>26</td>\n",
       "      <td>7</td>\n",
       "      <td>106397.75</td>\n",
       "      <td>1</td>\n",
       "      <td>0</td>\n",
       "      <td>0</td>\n",
       "      <td>103563.23</td>\n",
       "      <td>0.0</td>\n",
       "      <td>0.0</td>\n",
       "      <td>1.0</td>\n",
       "    </tr>\n",
       "    <tr>\n",
       "      <th>7462</th>\n",
       "      <td>610</td>\n",
       "      <td>40</td>\n",
       "      <td>9</td>\n",
       "      <td>0.00</td>\n",
       "      <td>1</td>\n",
       "      <td>1</td>\n",
       "      <td>1</td>\n",
       "      <td>149602.54</td>\n",
       "      <td>0.0</td>\n",
       "      <td>0.0</td>\n",
       "      <td>1.0</td>\n",
       "    </tr>\n",
       "    <tr>\n",
       "      <th>1508</th>\n",
       "      <td>576</td>\n",
       "      <td>36</td>\n",
       "      <td>6</td>\n",
       "      <td>0.00</td>\n",
       "      <td>2</td>\n",
       "      <td>1</td>\n",
       "      <td>1</td>\n",
       "      <td>48314.00</td>\n",
       "      <td>0.0</td>\n",
       "      <td>0.0</td>\n",
       "      <td>1.0</td>\n",
       "    </tr>\n",
       "    <tr>\n",
       "      <th>4478</th>\n",
       "      <td>549</td>\n",
       "      <td>31</td>\n",
       "      <td>4</td>\n",
       "      <td>0.00</td>\n",
       "      <td>2</td>\n",
       "      <td>0</td>\n",
       "      <td>1</td>\n",
       "      <td>25684.85</td>\n",
       "      <td>0.0</td>\n",
       "      <td>0.0</td>\n",
       "      <td>1.0</td>\n",
       "    </tr>\n",
       "    <tr>\n",
       "      <th>...</th>\n",
       "      <td>...</td>\n",
       "      <td>...</td>\n",
       "      <td>...</td>\n",
       "      <td>...</td>\n",
       "      <td>...</td>\n",
       "      <td>...</td>\n",
       "      <td>...</td>\n",
       "      <td>...</td>\n",
       "      <td>...</td>\n",
       "      <td>...</td>\n",
       "      <td>...</td>\n",
       "    </tr>\n",
       "    <tr>\n",
       "      <th>4938</th>\n",
       "      <td>773</td>\n",
       "      <td>34</td>\n",
       "      <td>10</td>\n",
       "      <td>126979.75</td>\n",
       "      <td>1</td>\n",
       "      <td>0</td>\n",
       "      <td>0</td>\n",
       "      <td>36823.28</td>\n",
       "      <td>1.0</td>\n",
       "      <td>0.0</td>\n",
       "      <td>1.0</td>\n",
       "    </tr>\n",
       "    <tr>\n",
       "      <th>4529</th>\n",
       "      <td>664</td>\n",
       "      <td>44</td>\n",
       "      <td>8</td>\n",
       "      <td>142989.69</td>\n",
       "      <td>1</td>\n",
       "      <td>1</td>\n",
       "      <td>1</td>\n",
       "      <td>115452.51</td>\n",
       "      <td>0.0</td>\n",
       "      <td>0.0</td>\n",
       "      <td>0.0</td>\n",
       "    </tr>\n",
       "    <tr>\n",
       "      <th>3866</th>\n",
       "      <td>547</td>\n",
       "      <td>29</td>\n",
       "      <td>6</td>\n",
       "      <td>104450.86</td>\n",
       "      <td>1</td>\n",
       "      <td>1</td>\n",
       "      <td>1</td>\n",
       "      <td>37160.28</td>\n",
       "      <td>0.0</td>\n",
       "      <td>0.0</td>\n",
       "      <td>0.0</td>\n",
       "    </tr>\n",
       "    <tr>\n",
       "      <th>2414</th>\n",
       "      <td>556</td>\n",
       "      <td>52</td>\n",
       "      <td>9</td>\n",
       "      <td>0.00</td>\n",
       "      <td>1</td>\n",
       "      <td>1</td>\n",
       "      <td>0</td>\n",
       "      <td>175149.20</td>\n",
       "      <td>0.0</td>\n",
       "      <td>0.0</td>\n",
       "      <td>0.0</td>\n",
       "    </tr>\n",
       "    <tr>\n",
       "      <th>5056</th>\n",
       "      <td>767</td>\n",
       "      <td>23</td>\n",
       "      <td>2</td>\n",
       "      <td>139542.82</td>\n",
       "      <td>1</td>\n",
       "      <td>0</td>\n",
       "      <td>1</td>\n",
       "      <td>28038.28</td>\n",
       "      <td>1.0</td>\n",
       "      <td>0.0</td>\n",
       "      <td>1.0</td>\n",
       "    </tr>\n",
       "  </tbody>\n",
       "</table>\n",
       "<p>5454 rows × 11 columns</p>\n",
       "</div>"
      ],
      "text/plain": [
       "      credit_score  age  tenure    balance  num_of_products  has_cr_card  \\\n",
       "9344           727   28       2  110997.76                1            1   \n",
       "3796           537   26       7  106397.75                1            0   \n",
       "7462           610   40       9       0.00                1            1   \n",
       "1508           576   36       6       0.00                2            1   \n",
       "4478           549   31       4       0.00                2            0   \n",
       "...            ...  ...     ...        ...              ...          ...   \n",
       "4938           773   34      10  126979.75                1            0   \n",
       "4529           664   44       8  142989.69                1            1   \n",
       "3866           547   29       6  104450.86                1            1   \n",
       "2414           556   52       9       0.00                1            1   \n",
       "5056           767   23       2  139542.82                1            0   \n",
       "\n",
       "      is_active_member  estimated_salary  geography_Germany  geography_Spain  \\\n",
       "9344                 0         101433.76                0.0              0.0   \n",
       "3796                 0         103563.23                0.0              0.0   \n",
       "7462                 1         149602.54                0.0              0.0   \n",
       "1508                 1          48314.00                0.0              0.0   \n",
       "4478                 1          25684.85                0.0              0.0   \n",
       "...                ...               ...                ...              ...   \n",
       "4938                 0          36823.28                1.0              0.0   \n",
       "4529                 1         115452.51                0.0              0.0   \n",
       "3866                 1          37160.28                0.0              0.0   \n",
       "2414                 0         175149.20                0.0              0.0   \n",
       "5056                 1          28038.28                1.0              0.0   \n",
       "\n",
       "      gender_Male  \n",
       "9344          0.0  \n",
       "3796          1.0  \n",
       "7462          1.0  \n",
       "1508          1.0  \n",
       "4478          1.0  \n",
       "...           ...  \n",
       "4938          1.0  \n",
       "4529          0.0  \n",
       "3866          0.0  \n",
       "2414          0.0  \n",
       "5056          1.0  \n",
       "\n",
       "[5454 rows x 11 columns]"
      ]
     },
     "execution_count": 24,
     "metadata": {},
     "output_type": "execute_result"
    }
   ],
   "source": [
    "features_train"
   ]
  },
  {
   "cell_type": "code",
   "execution_count": 25,
   "metadata": {},
   "outputs": [
    {
     "data": {
      "text/html": [
       "<div>\n",
       "<style scoped>\n",
       "    .dataframe tbody tr th:only-of-type {\n",
       "        vertical-align: middle;\n",
       "    }\n",
       "\n",
       "    .dataframe tbody tr th {\n",
       "        vertical-align: top;\n",
       "    }\n",
       "\n",
       "    .dataframe thead th {\n",
       "        text-align: right;\n",
       "    }\n",
       "</style>\n",
       "<table border=\"1\" class=\"dataframe\">\n",
       "  <thead>\n",
       "    <tr style=\"text-align: right;\">\n",
       "      <th></th>\n",
       "      <th>credit_score</th>\n",
       "      <th>age</th>\n",
       "      <th>tenure</th>\n",
       "      <th>balance</th>\n",
       "      <th>num_of_products</th>\n",
       "      <th>has_cr_card</th>\n",
       "      <th>is_active_member</th>\n",
       "      <th>estimated_salary</th>\n",
       "      <th>geography_Germany</th>\n",
       "      <th>geography_Spain</th>\n",
       "      <th>gender_Male</th>\n",
       "    </tr>\n",
       "  </thead>\n",
       "  <tbody>\n",
       "    <tr>\n",
       "      <th>7445</th>\n",
       "      <td>516</td>\n",
       "      <td>45</td>\n",
       "      <td>4</td>\n",
       "      <td>0.00</td>\n",
       "      <td>1</td>\n",
       "      <td>1</td>\n",
       "      <td>0</td>\n",
       "      <td>95273.73</td>\n",
       "      <td>0.0</td>\n",
       "      <td>0.0</td>\n",
       "      <td>0.0</td>\n",
       "    </tr>\n",
       "    <tr>\n",
       "      <th>8620</th>\n",
       "      <td>768</td>\n",
       "      <td>40</td>\n",
       "      <td>8</td>\n",
       "      <td>0.00</td>\n",
       "      <td>2</td>\n",
       "      <td>0</td>\n",
       "      <td>1</td>\n",
       "      <td>69080.46</td>\n",
       "      <td>0.0</td>\n",
       "      <td>0.0</td>\n",
       "      <td>0.0</td>\n",
       "    </tr>\n",
       "    <tr>\n",
       "      <th>1714</th>\n",
       "      <td>730</td>\n",
       "      <td>45</td>\n",
       "      <td>6</td>\n",
       "      <td>152880.97</td>\n",
       "      <td>1</td>\n",
       "      <td>0</td>\n",
       "      <td>0</td>\n",
       "      <td>162478.11</td>\n",
       "      <td>1.0</td>\n",
       "      <td>0.0</td>\n",
       "      <td>1.0</td>\n",
       "    </tr>\n",
       "    <tr>\n",
       "      <th>5441</th>\n",
       "      <td>751</td>\n",
       "      <td>29</td>\n",
       "      <td>1</td>\n",
       "      <td>135536.50</td>\n",
       "      <td>1</td>\n",
       "      <td>1</td>\n",
       "      <td>0</td>\n",
       "      <td>66825.33</td>\n",
       "      <td>0.0</td>\n",
       "      <td>0.0</td>\n",
       "      <td>1.0</td>\n",
       "    </tr>\n",
       "    <tr>\n",
       "      <th>9001</th>\n",
       "      <td>688</td>\n",
       "      <td>32</td>\n",
       "      <td>6</td>\n",
       "      <td>124179.30</td>\n",
       "      <td>1</td>\n",
       "      <td>1</td>\n",
       "      <td>1</td>\n",
       "      <td>138759.15</td>\n",
       "      <td>0.0</td>\n",
       "      <td>1.0</td>\n",
       "      <td>1.0</td>\n",
       "    </tr>\n",
       "    <tr>\n",
       "      <th>...</th>\n",
       "      <td>...</td>\n",
       "      <td>...</td>\n",
       "      <td>...</td>\n",
       "      <td>...</td>\n",
       "      <td>...</td>\n",
       "      <td>...</td>\n",
       "      <td>...</td>\n",
       "      <td>...</td>\n",
       "      <td>...</td>\n",
       "      <td>...</td>\n",
       "      <td>...</td>\n",
       "    </tr>\n",
       "    <tr>\n",
       "      <th>7505</th>\n",
       "      <td>659</td>\n",
       "      <td>27</td>\n",
       "      <td>4</td>\n",
       "      <td>0.00</td>\n",
       "      <td>2</td>\n",
       "      <td>1</td>\n",
       "      <td>0</td>\n",
       "      <td>99341.87</td>\n",
       "      <td>0.0</td>\n",
       "      <td>1.0</td>\n",
       "      <td>1.0</td>\n",
       "    </tr>\n",
       "    <tr>\n",
       "      <th>2232</th>\n",
       "      <td>649</td>\n",
       "      <td>36</td>\n",
       "      <td>8</td>\n",
       "      <td>0.00</td>\n",
       "      <td>2</td>\n",
       "      <td>1</td>\n",
       "      <td>0</td>\n",
       "      <td>161668.15</td>\n",
       "      <td>0.0</td>\n",
       "      <td>1.0</td>\n",
       "      <td>1.0</td>\n",
       "    </tr>\n",
       "    <tr>\n",
       "      <th>3720</th>\n",
       "      <td>473</td>\n",
       "      <td>40</td>\n",
       "      <td>8</td>\n",
       "      <td>152576.25</td>\n",
       "      <td>2</td>\n",
       "      <td>1</td>\n",
       "      <td>0</td>\n",
       "      <td>73073.68</td>\n",
       "      <td>1.0</td>\n",
       "      <td>0.0</td>\n",
       "      <td>1.0</td>\n",
       "    </tr>\n",
       "    <tr>\n",
       "      <th>5196</th>\n",
       "      <td>719</td>\n",
       "      <td>22</td>\n",
       "      <td>7</td>\n",
       "      <td>114415.84</td>\n",
       "      <td>1</td>\n",
       "      <td>1</td>\n",
       "      <td>1</td>\n",
       "      <td>177497.40</td>\n",
       "      <td>0.0</td>\n",
       "      <td>0.0</td>\n",
       "      <td>0.0</td>\n",
       "    </tr>\n",
       "    <tr>\n",
       "      <th>2460</th>\n",
       "      <td>660</td>\n",
       "      <td>41</td>\n",
       "      <td>1</td>\n",
       "      <td>129901.21</td>\n",
       "      <td>1</td>\n",
       "      <td>1</td>\n",
       "      <td>0</td>\n",
       "      <td>26025.60</td>\n",
       "      <td>1.0</td>\n",
       "      <td>0.0</td>\n",
       "      <td>1.0</td>\n",
       "    </tr>\n",
       "  </tbody>\n",
       "</table>\n",
       "<p>1818 rows × 11 columns</p>\n",
       "</div>"
      ],
      "text/plain": [
       "      credit_score  age  tenure    balance  num_of_products  has_cr_card  \\\n",
       "7445           516   45       4       0.00                1            1   \n",
       "8620           768   40       8       0.00                2            0   \n",
       "1714           730   45       6  152880.97                1            0   \n",
       "5441           751   29       1  135536.50                1            1   \n",
       "9001           688   32       6  124179.30                1            1   \n",
       "...            ...  ...     ...        ...              ...          ...   \n",
       "7505           659   27       4       0.00                2            1   \n",
       "2232           649   36       8       0.00                2            1   \n",
       "3720           473   40       8  152576.25                2            1   \n",
       "5196           719   22       7  114415.84                1            1   \n",
       "2460           660   41       1  129901.21                1            1   \n",
       "\n",
       "      is_active_member  estimated_salary  geography_Germany  geography_Spain  \\\n",
       "7445                 0          95273.73                0.0              0.0   \n",
       "8620                 1          69080.46                0.0              0.0   \n",
       "1714                 0         162478.11                1.0              0.0   \n",
       "5441                 0          66825.33                0.0              0.0   \n",
       "9001                 1         138759.15                0.0              1.0   \n",
       "...                ...               ...                ...              ...   \n",
       "7505                 0          99341.87                0.0              1.0   \n",
       "2232                 0         161668.15                0.0              1.0   \n",
       "3720                 0          73073.68                1.0              0.0   \n",
       "5196                 1         177497.40                0.0              0.0   \n",
       "2460                 0          26025.60                1.0              0.0   \n",
       "\n",
       "      gender_Male  \n",
       "7445          0.0  \n",
       "8620          0.0  \n",
       "1714          1.0  \n",
       "5441          1.0  \n",
       "9001          1.0  \n",
       "...           ...  \n",
       "7505          1.0  \n",
       "2232          1.0  \n",
       "3720          1.0  \n",
       "5196          0.0  \n",
       "2460          1.0  \n",
       "\n",
       "[1818 rows x 11 columns]"
      ]
     },
     "execution_count": 25,
     "metadata": {},
     "output_type": "execute_result"
    }
   ],
   "source": [
    "features_valid"
   ]
  },
  {
   "cell_type": "code",
   "execution_count": 26,
   "metadata": {},
   "outputs": [
    {
     "data": {
      "text/html": [
       "<div>\n",
       "<style scoped>\n",
       "    .dataframe tbody tr th:only-of-type {\n",
       "        vertical-align: middle;\n",
       "    }\n",
       "\n",
       "    .dataframe tbody tr th {\n",
       "        vertical-align: top;\n",
       "    }\n",
       "\n",
       "    .dataframe thead th {\n",
       "        text-align: right;\n",
       "    }\n",
       "</style>\n",
       "<table border=\"1\" class=\"dataframe\">\n",
       "  <thead>\n",
       "    <tr style=\"text-align: right;\">\n",
       "      <th></th>\n",
       "      <th>credit_score</th>\n",
       "      <th>age</th>\n",
       "      <th>tenure</th>\n",
       "      <th>balance</th>\n",
       "      <th>num_of_products</th>\n",
       "      <th>has_cr_card</th>\n",
       "      <th>is_active_member</th>\n",
       "      <th>estimated_salary</th>\n",
       "      <th>geography_Germany</th>\n",
       "      <th>geography_Spain</th>\n",
       "      <th>gender_Male</th>\n",
       "    </tr>\n",
       "  </thead>\n",
       "  <tbody>\n",
       "    <tr>\n",
       "      <th>5170</th>\n",
       "      <td>814</td>\n",
       "      <td>31</td>\n",
       "      <td>4</td>\n",
       "      <td>0.00</td>\n",
       "      <td>2</td>\n",
       "      <td>1</td>\n",
       "      <td>1</td>\n",
       "      <td>142029.17</td>\n",
       "      <td>0.0</td>\n",
       "      <td>0.0</td>\n",
       "      <td>0.0</td>\n",
       "    </tr>\n",
       "    <tr>\n",
       "      <th>4180</th>\n",
       "      <td>607</td>\n",
       "      <td>36</td>\n",
       "      <td>10</td>\n",
       "      <td>106702.94</td>\n",
       "      <td>2</td>\n",
       "      <td>0</td>\n",
       "      <td>0</td>\n",
       "      <td>198313.69</td>\n",
       "      <td>1.0</td>\n",
       "      <td>0.0</td>\n",
       "      <td>1.0</td>\n",
       "    </tr>\n",
       "    <tr>\n",
       "      <th>7349</th>\n",
       "      <td>632</td>\n",
       "      <td>42</td>\n",
       "      <td>6</td>\n",
       "      <td>59972.26</td>\n",
       "      <td>2</td>\n",
       "      <td>0</td>\n",
       "      <td>1</td>\n",
       "      <td>148172.94</td>\n",
       "      <td>1.0</td>\n",
       "      <td>0.0</td>\n",
       "      <td>1.0</td>\n",
       "    </tr>\n",
       "    <tr>\n",
       "      <th>7469</th>\n",
       "      <td>686</td>\n",
       "      <td>35</td>\n",
       "      <td>8</td>\n",
       "      <td>105419.73</td>\n",
       "      <td>1</td>\n",
       "      <td>1</td>\n",
       "      <td>0</td>\n",
       "      <td>35356.46</td>\n",
       "      <td>0.0</td>\n",
       "      <td>0.0</td>\n",
       "      <td>0.0</td>\n",
       "    </tr>\n",
       "    <tr>\n",
       "      <th>3467</th>\n",
       "      <td>538</td>\n",
       "      <td>42</td>\n",
       "      <td>1</td>\n",
       "      <td>98548.62</td>\n",
       "      <td>2</td>\n",
       "      <td>0</td>\n",
       "      <td>1</td>\n",
       "      <td>94047.75</td>\n",
       "      <td>1.0</td>\n",
       "      <td>0.0</td>\n",
       "      <td>0.0</td>\n",
       "    </tr>\n",
       "    <tr>\n",
       "      <th>...</th>\n",
       "      <td>...</td>\n",
       "      <td>...</td>\n",
       "      <td>...</td>\n",
       "      <td>...</td>\n",
       "      <td>...</td>\n",
       "      <td>...</td>\n",
       "      <td>...</td>\n",
       "      <td>...</td>\n",
       "      <td>...</td>\n",
       "      <td>...</td>\n",
       "      <td>...</td>\n",
       "    </tr>\n",
       "    <tr>\n",
       "      <th>8579</th>\n",
       "      <td>650</td>\n",
       "      <td>34</td>\n",
       "      <td>4</td>\n",
       "      <td>106005.54</td>\n",
       "      <td>1</td>\n",
       "      <td>0</td>\n",
       "      <td>1</td>\n",
       "      <td>142995.32</td>\n",
       "      <td>0.0</td>\n",
       "      <td>0.0</td>\n",
       "      <td>1.0</td>\n",
       "    </tr>\n",
       "    <tr>\n",
       "      <th>7536</th>\n",
       "      <td>697</td>\n",
       "      <td>42</td>\n",
       "      <td>1</td>\n",
       "      <td>0.00</td>\n",
       "      <td>1</td>\n",
       "      <td>1</td>\n",
       "      <td>0</td>\n",
       "      <td>1262.83</td>\n",
       "      <td>0.0</td>\n",
       "      <td>0.0</td>\n",
       "      <td>0.0</td>\n",
       "    </tr>\n",
       "    <tr>\n",
       "      <th>2911</th>\n",
       "      <td>649</td>\n",
       "      <td>52</td>\n",
       "      <td>8</td>\n",
       "      <td>49113.75</td>\n",
       "      <td>1</td>\n",
       "      <td>1</td>\n",
       "      <td>0</td>\n",
       "      <td>41858.43</td>\n",
       "      <td>0.0</td>\n",
       "      <td>0.0</td>\n",
       "      <td>0.0</td>\n",
       "    </tr>\n",
       "    <tr>\n",
       "      <th>2789</th>\n",
       "      <td>705</td>\n",
       "      <td>44</td>\n",
       "      <td>0</td>\n",
       "      <td>184552.12</td>\n",
       "      <td>1</td>\n",
       "      <td>1</td>\n",
       "      <td>0</td>\n",
       "      <td>68860.30</td>\n",
       "      <td>0.0</td>\n",
       "      <td>1.0</td>\n",
       "      <td>1.0</td>\n",
       "    </tr>\n",
       "    <tr>\n",
       "      <th>7755</th>\n",
       "      <td>675</td>\n",
       "      <td>34</td>\n",
       "      <td>8</td>\n",
       "      <td>0.00</td>\n",
       "      <td>2</td>\n",
       "      <td>1</td>\n",
       "      <td>1</td>\n",
       "      <td>184842.21</td>\n",
       "      <td>0.0</td>\n",
       "      <td>0.0</td>\n",
       "      <td>1.0</td>\n",
       "    </tr>\n",
       "  </tbody>\n",
       "</table>\n",
       "<p>1819 rows × 11 columns</p>\n",
       "</div>"
      ],
      "text/plain": [
       "      credit_score  age  tenure    balance  num_of_products  has_cr_card  \\\n",
       "5170           814   31       4       0.00                2            1   \n",
       "4180           607   36      10  106702.94                2            0   \n",
       "7349           632   42       6   59972.26                2            0   \n",
       "7469           686   35       8  105419.73                1            1   \n",
       "3467           538   42       1   98548.62                2            0   \n",
       "...            ...  ...     ...        ...              ...          ...   \n",
       "8579           650   34       4  106005.54                1            0   \n",
       "7536           697   42       1       0.00                1            1   \n",
       "2911           649   52       8   49113.75                1            1   \n",
       "2789           705   44       0  184552.12                1            1   \n",
       "7755           675   34       8       0.00                2            1   \n",
       "\n",
       "      is_active_member  estimated_salary  geography_Germany  geography_Spain  \\\n",
       "5170                 1         142029.17                0.0              0.0   \n",
       "4180                 0         198313.69                1.0              0.0   \n",
       "7349                 1         148172.94                1.0              0.0   \n",
       "7469                 0          35356.46                0.0              0.0   \n",
       "3467                 1          94047.75                1.0              0.0   \n",
       "...                ...               ...                ...              ...   \n",
       "8579                 1         142995.32                0.0              0.0   \n",
       "7536                 0           1262.83                0.0              0.0   \n",
       "2911                 0          41858.43                0.0              0.0   \n",
       "2789                 0          68860.30                0.0              1.0   \n",
       "7755                 1         184842.21                0.0              0.0   \n",
       "\n",
       "      gender_Male  \n",
       "5170          0.0  \n",
       "4180          1.0  \n",
       "7349          1.0  \n",
       "7469          0.0  \n",
       "3467          0.0  \n",
       "...           ...  \n",
       "8579          1.0  \n",
       "7536          0.0  \n",
       "2911          0.0  \n",
       "2789          1.0  \n",
       "7755          1.0  \n",
       "\n",
       "[1819 rows x 11 columns]"
      ]
     },
     "execution_count": 26,
     "metadata": {},
     "output_type": "execute_result"
    }
   ],
   "source": [
    "features_test"
   ]
  },
  {
   "cell_type": "code",
   "execution_count": 27,
   "metadata": {},
   "outputs": [],
   "source": [
    "# encoded_df = pd.DataFrame(onehotencoder.index.fit_transform(df_onehot[['geography', 'gender']]))"
   ]
  },
  {
   "cell_type": "code",
   "execution_count": 28,
   "metadata": {},
   "outputs": [],
   "source": [
    "# df_encoded.columns = encoder.get_feature_names_out()\n",
    "# df_encoded"
   ]
  },
  {
   "cell_type": "code",
   "execution_count": 29,
   "metadata": {},
   "outputs": [],
   "source": [
    "# Выведем новые признаки\n",
    "# onehotencoder.get_feature_names_out()"
   ]
  },
  {
   "cell_type": "code",
   "execution_count": 30,
   "metadata": {
    "scrolled": false
   },
   "outputs": [],
   "source": [
    "# Используем вывод этого метода, чтобы добавить названия столбцов.\n",
    "# encoded_df.columns = onehotencoder.get_feature_names_out()\n",
    "# encoded_df"
   ]
  },
  {
   "cell_type": "code",
   "execution_count": 31,
   "metadata": {},
   "outputs": [],
   "source": [
    "# Присоединим новые признаки к исходному датафрейму, удалим старые столбцы\n",
    "# df_onehot = df_onehot.join(encoded_df)\n",
    "# df_onehot.drop(['geography', 'gender'], axis = 1, inplace = True)"
   ]
  },
  {
   "cell_type": "code",
   "execution_count": 32,
   "metadata": {},
   "outputs": [],
   "source": [
    "# df_onehot.reset_index(drop=True)"
   ]
  },
  {
   "cell_type": "code",
   "execution_count": 33,
   "metadata": {},
   "outputs": [],
   "source": [
    "# df_onehot = df_onehot.dropna()\n",
    "# df_onehot"
   ]
  },
  {
   "cell_type": "code",
   "execution_count": 34,
   "metadata": {},
   "outputs": [],
   "source": [
    "# # Определим признаки и выделим целевой признак\n",
    "# features = df_onehot.drop('exited', axis=1)\n",
    "# target = df_onehot['exited']"
   ]
  },
  {
   "cell_type": "markdown",
   "metadata": {},
   "source": [
    "Разобьем данные на три выборки: обучающую, валидационную и тестовую. Размеры тестового и валидационного наборов равны.    \n",
    "Исходные данные разобьем в соотношении 3:1:1.\n",
    "Обучающая выборка будет сосотоять из 60%. Валидационная и тестовая по 20%."
   ]
  },
  {
   "cell_type": "code",
   "execution_count": 35,
   "metadata": {},
   "outputs": [],
   "source": [
    "# # Сперва выделим обучающую выборку\n",
    "# features_train, features_validtest, target_train, target_validtest = train_test_split(\n",
    "#     features, target, test_size=0.4, random_state=12345)\n",
    "# # Теперь разделим на валидационную и тестовую выборки\n",
    "# features_valid, features_test, target_valid, target_test = train_test_split(\n",
    "#     features_validtest, target_validtest, test_size=0.5, random_state=12345)\n",
    "# print(f\"Размеры тренировочной выборки {features_train.shape}\")\n",
    "# print(f\"Размеры валидационной выборки {features_valid.shape}\")\n",
    "# print(f\"Размеры тестовой выборки {features_test.shape}\")"
   ]
  },
  {
   "cell_type": "markdown",
   "metadata": {},
   "source": [
    "Стандартизируем выборки"
   ]
  },
  {
   "cell_type": "code",
   "execution_count": 36,
   "metadata": {},
   "outputs": [],
   "source": [
    "pd.options.mode.chained_assignment = None\n",
    "\n",
    "numeric = ['credit_score', 'age', 'balance', 'estimated_salary']"
   ]
  },
  {
   "cell_type": "code",
   "execution_count": 37,
   "metadata": {
    "scrolled": true
   },
   "outputs": [],
   "source": [
    "scaler = StandardScaler()\n",
    "scaler.fit(features_train[numeric])\n",
    "features_train[numeric] = scaler.transform(features_train[numeric])\n",
    "features_valid[numeric] = scaler.transform(features_valid[numeric])\n",
    "features_test[numeric] = scaler.transform(features_test[numeric])"
   ]
  },
  {
   "cell_type": "markdown",
   "metadata": {
    "id": "ZocmoF7lJW6I"
   },
   "source": [
    "### Построим модель без учета баланса"
   ]
  },
  {
   "cell_type": "code",
   "execution_count": 38,
   "metadata": {},
   "outputs": [
    {
     "name": "stdout",
     "output_type": "stream",
     "text": [
      "F1: 0.5811, максимальная глубина: 10, минимальное количество примеров для разделения: 9, минимальное количество объектов в листе: 3\n"
     ]
    }
   ],
   "source": [
    "# Подбирем необходимые гиперпараметры для дерева\n",
    "\n",
    "best_model = None\n",
    "best_result = 0\n",
    "best_depth = 0\n",
    "best_split = 0\n",
    "best_leaf = 0\n",
    "for leaf in range(1,11):\n",
    "    for sample in range(2,11):\n",
    "        for depth in range (1, 11):\n",
    "            model_tree = DecisionTreeClassifier(random_state=12345, max_depth=depth, min_samples_split=sample, min_samples_leaf=leaf)\n",
    "            model_tree.fit(features_train, target_train) \n",
    "            predictions_valid = model_tree.predict(features_valid)\n",
    "            f1 = f1_score(target_valid,predictions_valid)\n",
    "            if f1 > best_result:\n",
    "                best_model = model_tree\n",
    "                best_result = f1\n",
    "                best_depth = depth\n",
    "                best_split = sample \n",
    "                best_leaf = leaf\n",
    "print(f\"F1: {round(best_result, 4)}, максимальная глубина: {depth}, минимальное количество примеров для разделения: {best_split}, минимальное количество объектов в листе: {best_leaf}\")\n"
   ]
  },
  {
   "cell_type": "code",
   "execution_count": 39,
   "metadata": {},
   "outputs": [
    {
     "name": "stdout",
     "output_type": "stream",
     "text": [
      "F1: 0.5927, количество деревьев: 20, максимальная глубина: 10, минимальное количество примеров для разделения: 4\n",
      "CPU times: user 3min 5s, sys: 951 ms, total: 3min 6s\n",
      "Wall time: 3min 7s\n"
     ]
    }
   ],
   "source": [
    "%%time\n",
    "# Случайный лес\n",
    "\n",
    "best_model = None\n",
    "best_result = 0\n",
    "best_est = 0\n",
    "best_depth = 0\n",
    "best_split = 0\n",
    "for sample in range(2,11):\n",
    "    for est in range(10, 100, 10):\n",
    "        for depth in range (1, 11):\n",
    "            model_forest = RandomForestClassifier(random_state=12345, n_estimators=est, max_depth=depth, min_samples_split=sample)\n",
    "            model_forest.fit(features_train, target_train) \n",
    "            predictions_valid = model_forest.predict(features_valid)\n",
    "            f1 = f1_score(target_valid,predictions_valid) \n",
    "            if f1 > best_result:\n",
    "                best_model = model_forest\n",
    "                best_result = f1\n",
    "                best_est = est\n",
    "                best_depth = depth\n",
    "                best_split = sample\n",
    "print(f\"F1: {round(best_result, 4)}, количество деревьев: {best_est}, максимальная глубина: {depth}, минимальное количество примеров для разделения: {best_split}\")"
   ]
  },
  {
   "cell_type": "code",
   "execution_count": 40,
   "metadata": {
    "scrolled": true
   },
   "outputs": [
    {
     "name": "stdout",
     "output_type": "stream",
     "text": [
      "F1: 0.564\n"
     ]
    }
   ],
   "source": [
    "# Логистическая регрессия\n",
    "\n",
    "for iter in range(100, 500, 1000):\n",
    "    model_logistic = LogisticRegression(random_state=12345, solver='lbfgs', max_iter=iter)\n",
    "    model_logistic.fit(features_train, target_train)\n",
    "    model_logistic.predict(features_valid)\n",
    "print(\"F1:\", round(f1_score(target_valid,predictions_valid), 4))"
   ]
  },
  {
   "cell_type": "markdown",
   "metadata": {},
   "source": [
    "#### Вывод\n",
    "\n",
    "Рассмотрев данные без учета баланса 3 моделями можно сделать вывод, что самая лучшая модель оказалась случайный лес.  \n",
    "В результате F1-мера у модели случайного леса - 0,59.\n",
    "\n",
    "Построим ROC-кривую у моделей"
   ]
  },
  {
   "cell_type": "code",
   "execution_count": 41,
   "metadata": {},
   "outputs": [],
   "source": [
    "probabilities_tree=model_tree.predict_proba(features_valid)\n",
    "probabilities_one_valid_tree=probabilities_tree[:,1]\n",
    "fpr_tree,tpr_tree,thresholds=roc_curve(target_valid,probabilities_one_valid_tree)"
   ]
  },
  {
   "cell_type": "code",
   "execution_count": 42,
   "metadata": {},
   "outputs": [],
   "source": [
    "auc_roc_tree=roc_auc_score(target_valid,probabilities_one_valid_tree)"
   ]
  },
  {
   "cell_type": "code",
   "execution_count": 43,
   "metadata": {},
   "outputs": [
    {
     "data": {
      "text/plain": [
       "0.8212"
      ]
     },
     "execution_count": 43,
     "metadata": {},
     "output_type": "execute_result"
    }
   ],
   "source": [
    "round(auc_roc_tree, 4)"
   ]
  },
  {
   "cell_type": "code",
   "execution_count": 44,
   "metadata": {},
   "outputs": [],
   "source": [
    "probabilities_forest=model_forest.predict_proba(features_valid)\n",
    "probabilities_one_valid_forest=probabilities_forest[:,1]\n",
    "fpr_forest,tpr_forest,thresholds=roc_curve(target_valid,probabilities_one_valid_forest)"
   ]
  },
  {
   "cell_type": "code",
   "execution_count": 45,
   "metadata": {},
   "outputs": [],
   "source": [
    "auc_roc_forest=roc_auc_score(target_valid,probabilities_one_valid_forest)"
   ]
  },
  {
   "cell_type": "code",
   "execution_count": 46,
   "metadata": {},
   "outputs": [
    {
     "data": {
      "text/plain": [
       "0.8709"
      ]
     },
     "execution_count": 46,
     "metadata": {},
     "output_type": "execute_result"
    }
   ],
   "source": [
    "round(auc_roc_forest, 4)"
   ]
  },
  {
   "cell_type": "code",
   "execution_count": 47,
   "metadata": {},
   "outputs": [],
   "source": [
    "probabilities_reg=model_logistic.predict_proba(features_valid)\n",
    "probabilities_one_valid_reg=probabilities_reg[:,1]\n",
    "fpr_log,tpr_log,thresholds=roc_curve(target_valid,probabilities_one_valid_reg)"
   ]
  },
  {
   "cell_type": "code",
   "execution_count": 48,
   "metadata": {},
   "outputs": [],
   "source": [
    "auc_roc_reg=roc_auc_score(target_valid,probabilities_one_valid_reg)"
   ]
  },
  {
   "cell_type": "code",
   "execution_count": 49,
   "metadata": {},
   "outputs": [
    {
     "data": {
      "text/plain": [
       "0.7737"
      ]
     },
     "execution_count": 49,
     "metadata": {},
     "output_type": "execute_result"
    }
   ],
   "source": [
    "round(auc_roc_reg, 4)"
   ]
  },
  {
   "cell_type": "code",
   "execution_count": 50,
   "metadata": {},
   "outputs": [
    {
     "data": {
      "image/png": "[encoded data removed]",
      "text/plain": [
       "<Figure size 576x432 with 1 Axes>"
      ]
     },
     "metadata": {
      "needs_background": "light"
     },
     "output_type": "display_data"
    }
   ],
   "source": [
    "plt.figure(figsize=(8,6))\n",
    "plt.plot([0, 1], [0, 1], linestyle='--')\n",
    "plt.xlim([0.0, 1.0])\n",
    "plt.ylim([0.0, 1.0])\n",
    "plt.plot(fpr_log,tpr_log)\n",
    "plt.plot(fpr_tree,tpr_tree)\n",
    "plt.plot(fpr_forest,tpr_forest)\n",
    "plt.xlabel('False Positive Rate')\n",
    "plt.ylabel('True Positive Rate')\n",
    "plt.title('ROC-кривая')\n",
    "plt.legend(('Случайная модель','Случайный лес','Логистическая регрессия','Дерево решения'),loc= 'lower right') \n",
    "plt.show()"
   ]
  },
  {
   "cell_type": "markdown",
   "metadata": {},
   "source": [
    "## Борьба с дисбалансом"
   ]
  },
  {
   "cell_type": "markdown",
   "metadata": {},
   "source": [
    "Для борьбы с дисбалансом воспользуемся:  \n",
    "1. взвешивания классов - добавление в модели параметра `class_weight='balanced'`,\n",
    "2. увеличения обучающей выборки засчёт объектов положительного класса в таргете - применение техники upsampling,\n",
    "3. уменьшения обучающей выборки засчёт объектов отрицательного класса в таргете - применение техники downsampling."
   ]
  },
  {
   "cell_type": "code",
   "execution_count": 51,
   "metadata": {},
   "outputs": [],
   "source": [
    "# Функция для улучшения качества модели с помощью увеличения выборки\n",
    "def upsample(features, target, repeat):\n",
    "    features_zeros = features[target == 0]\n",
    "    features_ones = features[target == 1]\n",
    "    target_zeros = target[target == 0]\n",
    "    target_ones = target[target == 1]\n",
    "    \n",
    "    # Объединим\n",
    "    features_upsampled = pd.concat([features_zeros] + [features_ones] * repeat)\n",
    "    target_upsampled = pd.concat([target_zeros] + [target_ones] * repeat)\n",
    "    \n",
    "    # Перемещаем данные \n",
    "    features_upsampled, target_upsampled = shuffle(features_upsampled, target_upsampled, random_state=12345)\n",
    "    return features_upsampled, target_upsampled\n"
   ]
  },
  {
   "cell_type": "code",
   "execution_count": 52,
   "metadata": {},
   "outputs": [
    {
     "name": "stdout",
     "output_type": "stream",
     "text": [
      "(8832, 11)\n",
      "(8832,)\n"
     ]
    }
   ],
   "source": [
    "# Протестируем функцию\n",
    "features_train_upsampled, target_train_upsampled = upsample(features_train, target_train, 4)\n",
    "print(features_train_upsampled.shape)\n",
    "print(target_train_upsampled.shape)"
   ]
  },
  {
   "cell_type": "code",
   "execution_count": 53,
   "metadata": {},
   "outputs": [],
   "source": [
    "# Функция для уменьшения представленной класса в выборке \n",
    "def downsample(features, target, fraction):\n",
    "    features_zeros = features[target == 0]\n",
    "    features_ones = features[target == 1]\n",
    "    target_zeros = target[target == 0]\n",
    "    target_ones = target[target == 1]  \n",
    "    \n",
    "    # Объединим\n",
    "    features_downsample = pd.concat([features_zeros.sample(frac=fraction, random_state = 12345)] + [features_ones])\n",
    "    target_downsample = pd.concat([target_zeros.sample(frac=fraction, random_state = 12345)] + [target_ones])\n",
    "    \n",
    "    # Перемещаем данные\n",
    "    features_downsample, target_downsample = shuffle(features_downsample, target_downsample, random_state=12345)\n",
    "    return features_downsample, target_downsample"
   ]
  },
  {
   "cell_type": "code",
   "execution_count": 54,
   "metadata": {},
   "outputs": [
    {
     "name": "stdout",
     "output_type": "stream",
     "text": [
      "(2208, 11)\n",
      "(2208,)\n"
     ]
    }
   ],
   "source": [
    "# Протестируем функцию \n",
    "features_train_downsampled, target_train_downsampled = downsample(features_train,\n",
    "                                                                  target_train, 0.25)\n",
    "print(features_train_downsampled.shape)\n",
    "print(target_train_downsampled.shape)"
   ]
  },
  {
   "cell_type": "code",
   "execution_count": 55,
   "metadata": {
    "scrolled": true
   },
   "outputs": [
    {
     "data": {
      "text/plain": [
       "exited\n",
       "1    0.509964\n",
       "0    0.490036\n",
       "Name: proportion, dtype: float64"
      ]
     },
     "execution_count": 55,
     "metadata": {},
     "output_type": "execute_result"
    }
   ],
   "source": [
    "target_train_downsampled.value_counts(normalize=True)"
   ]
  },
  {
   "cell_type": "code",
   "execution_count": 56,
   "metadata": {
    "scrolled": true
   },
   "outputs": [
    {
     "data": {
      "text/plain": [
       "exited\n",
       "1    0.509964\n",
       "0    0.490036\n",
       "Name: proportion, dtype: float64"
      ]
     },
     "execution_count": 56,
     "metadata": {},
     "output_type": "execute_result"
    }
   ],
   "source": [
    "target_train_upsampled.value_counts(normalize=True)"
   ]
  },
  {
   "cell_type": "markdown",
   "metadata": {},
   "source": [
    "#### Построим модели при сбалансированной выборке (уменьшение выборки)"
   ]
  },
  {
   "cell_type": "code",
   "execution_count": 57,
   "metadata": {},
   "outputs": [
    {
     "name": "stdout",
     "output_type": "stream",
     "text": [
      "F1: 0.5717, максимальная глубина: 10, минимальное количество примеров для разделения: 2, минимальное количество объектов в листе: 10\n",
      "CPU times: user 10 s, sys: 43.8 ms, total: 10.1 s\n",
      "Wall time: 10.1 s\n"
     ]
    }
   ],
   "source": [
    "%%time\n",
    "\n",
    "# Подбирем необходимые гиперпараметры для дерева\n",
    "\n",
    "best_model_tree_downsampled = None\n",
    "best_result = 0\n",
    "best_depth = 0\n",
    "best_split = 0\n",
    "best_leaf = 0\n",
    "for leaf in range(1,11):\n",
    "    for sample in range(2,11):\n",
    "        for depth in range (1, 11):\n",
    "            model_tree = DecisionTreeClassifier(random_state=12345, max_depth=depth, min_samples_split=sample, min_samples_leaf=leaf)\n",
    "            model_tree.fit(features_train_downsampled, target_train_downsampled) \n",
    "            predictions_valid = model_tree.predict(features_valid)\n",
    "            f1 = f1_score(target_valid,predictions_valid)\n",
    "            if f1 > best_result:\n",
    "                best_model_tree_downsampled = model_tree\n",
    "                best_result = f1\n",
    "                best_depth = depth\n",
    "                best_split = sample \n",
    "                best_leaf = leaf\n",
    "print(f\"F1: {round(best_result, 4)}, максимальная глубина: {depth}, минимальное количество примеров для разделения: {best_split}, минимальное количество объектов в листе: {best_leaf}\")"
   ]
  },
  {
   "cell_type": "code",
   "execution_count": 58,
   "metadata": {},
   "outputs": [
    {
     "name": "stdout",
     "output_type": "stream",
     "text": [
      "F1: 0.6095, количество деревьев: 41, максимальная глубина: 10, минимальное количество примеров для разделения: 2\n",
      "CPU times: user 5min 32s, sys: 2.11 s, total: 5min 34s\n",
      "Wall time: 5min 35s\n"
     ]
    }
   ],
   "source": [
    "%%time\n",
    "# Случайный лес\n",
    "\n",
    "best_model_forest_downsampled = None\n",
    "best_result = 0\n",
    "best_est = 0\n",
    "best_depth = 0\n",
    "best_split = 0\n",
    "for sample in range(2,11):\n",
    "    for est in range(1, 50):\n",
    "        for depth in range (1, 11):\n",
    "            model_forest = RandomForestClassifier(random_state=12345, n_estimators=est, max_depth=depth, min_samples_split=sample)\n",
    "            model_forest.fit(features_train_downsampled, target_train_downsampled) \n",
    "            predictions_valid = model_forest.predict(features_valid)\n",
    "            f1 = f1_score(target_valid,predictions_valid) \n",
    "            if f1 > best_result:\n",
    "                best_model_forest_downsampled = model_forest\n",
    "                best_result = f1\n",
    "                best_est = est\n",
    "                best_depth = depth\n",
    "                best_split = sample\n",
    "print(f\"F1: {round(best_result, 4)}, количество деревьев: {best_est}, максимальная глубина: {depth}, минимальное количество примеров для разделения: {best_split}\")"
   ]
  },
  {
   "cell_type": "code",
   "execution_count": 59,
   "metadata": {
    "scrolled": false
   },
   "outputs": [
    {
     "name": "stdout",
     "output_type": "stream",
     "text": [
      "F1: 0.5841\n"
     ]
    }
   ],
   "source": [
    "# Логистическая регрессия\n",
    "\n",
    "for iter in range(100, 500, 1000):\n",
    "    model_logistic_downsampled = LogisticRegression(random_state=12345, solver='lbfgs', max_iter=iter)\n",
    "    model_logistic_downsampled.fit(features_train_downsampled, target_train_downsampled)\n",
    "    model_logistic_downsampled.predict(features_valid)\n",
    "print(\"F1:\", round(f1_score(target_valid,predictions_valid), 4))"
   ]
  },
  {
   "cell_type": "markdown",
   "metadata": {},
   "source": [
    "#### Построим модели при сбалансированной выборке (увеличение выборки)"
   ]
  },
  {
   "cell_type": "code",
   "execution_count": 60,
   "metadata": {},
   "outputs": [
    {
     "name": "stdout",
     "output_type": "stream",
     "text": [
      "F1: 0.5759, максимальная глубина: 10, минимальное количество примеров для разделения: 2, минимальное количество объектов в листе: 8\n",
      "CPU times: user 21.3 s, sys: 71.7 ms, total: 21.3 s\n",
      "Wall time: 21.5 s\n"
     ]
    }
   ],
   "source": [
    "%%time\n",
    "\n",
    "# Подбирем необходимые гиперпараметры для дерева\n",
    "\n",
    "best_model_tree_upsampled = None\n",
    "best_result = 0\n",
    "best_depth = 0\n",
    "best_split = 0\n",
    "best_leaf = 0\n",
    "for leaf in range(1,11):\n",
    "    for sample in range(2,11):\n",
    "        for depth in range (1, 11):\n",
    "            model_tree = DecisionTreeClassifier(random_state=12345, max_depth=depth, min_samples_split=sample, min_samples_leaf=leaf)\n",
    "            model_tree.fit(features_train_upsampled, target_train_upsampled) \n",
    "            predictions_valid = model_tree.predict(features_valid)\n",
    "            f1 = f1_score(target_valid,predictions_valid)\n",
    "            if f1 > best_result:\n",
    "                best_model_tree_upsampled = model_tree\n",
    "                best_result = f1\n",
    "                best_depth = depth\n",
    "                best_split = sample \n",
    "                best_leaf = leaf\n",
    "print(f\"F1: {round(best_result, 4)}, максимальная глубина: {depth}, минимальное количество примеров для разделения: {best_split}, минимальное количество объектов в листе: {best_leaf}\")"
   ]
  },
  {
   "cell_type": "code",
   "execution_count": 61,
   "metadata": {},
   "outputs": [
    {
     "name": "stdout",
     "output_type": "stream",
     "text": [
      "F1: 0.6398, количество деревьев: 32, максимальная глубина: 10, минимальное количество примеров для разделения: 4\n",
      "CPU times: user 11min 30s, sys: 2.85 s, total: 11min 32s\n",
      "Wall time: 11min 41s\n"
     ]
    }
   ],
   "source": [
    "%%time\n",
    "# Случайный лес\n",
    "\n",
    "best_model_forest_upsampled = None\n",
    "best_result = 0\n",
    "best_est = 0\n",
    "best_depth = 0\n",
    "best_split = 0\n",
    "for sample in range(2,11):\n",
    "    for est in range(1, 50):\n",
    "        for depth in range (1, 11):\n",
    "            model_forest = RandomForestClassifier(random_state=12345, n_estimators=est, max_depth=depth, min_samples_split=sample)\n",
    "            model_forest.fit(features_train_upsampled, target_train_upsampled) \n",
    "            predictions_valid = model_forest.predict(features_valid)\n",
    "            f1 = f1_score(target_valid,predictions_valid) \n",
    "            if f1 > best_result:\n",
    "                best_model_forest_upsampled = model_forest\n",
    "                best_result = f1\n",
    "                best_est = est\n",
    "                best_depth = depth\n",
    "                best_split = sample\n",
    "print(f\"F1: {round(best_result, 4)}, количество деревьев: {best_est}, максимальная глубина: {depth}, минимальное количество примеров для разделения: {best_split}\")"
   ]
  },
  {
   "cell_type": "code",
   "execution_count": 62,
   "metadata": {
    "scrolled": false
   },
   "outputs": [
    {
     "name": "stdout",
     "output_type": "stream",
     "text": [
      "F1: 0.6311\n"
     ]
    }
   ],
   "source": [
    "# Логистическая регрессия\n",
    "\n",
    "for iter in range(100, 500, 1000):\n",
    "    model_logistic_upsampled = LogisticRegression(random_state=12345, solver='lbfgs', max_iter=iter)\n",
    "    model_logistic_upsampled.fit(features_train_upsampled, target_train_upsampled)\n",
    "    model_logistic_upsampled.predict(features_valid)\n",
    "print(\"F1:\", round(f1_score(target_valid,predictions_valid), 4))"
   ]
  },
  {
   "cell_type": "markdown",
   "metadata": {},
   "source": [
    "#### Построим модели при сбалансированной выборке (взвешивание классов)"
   ]
  },
  {
   "cell_type": "code",
   "execution_count": 63,
   "metadata": {},
   "outputs": [
    {
     "name": "stdout",
     "output_type": "stream",
     "text": [
      "F1: 0.5763, максимальная глубина: 10, минимальное количество примеров для разделения: 2, минимальное количество объектов в листе: 9\n",
      "CPU times: user 18.7 s, sys: 47.7 ms, total: 18.7 s\n",
      "Wall time: 18.8 s\n"
     ]
    }
   ],
   "source": [
    "%%time\n",
    "\n",
    "# Подбирем необходимые гиперпараметры для дерева\n",
    "\n",
    "best_model_tree_balanced = None\n",
    "best_result = 0\n",
    "best_depth = 0\n",
    "best_split = 0\n",
    "best_leaf = 0\n",
    "for leaf in range(1,11):\n",
    "    for sample in range(2,11):\n",
    "        for depth in range (1, 11):\n",
    "            model_tree = DecisionTreeClassifier(random_state=12345, class_weight='balanced', max_depth=depth, min_samples_split=sample, min_samples_leaf=leaf)\n",
    "            model_tree.fit(features_train, target_train) \n",
    "            predictions_valid = model_tree.predict(features_valid)\n",
    "            f1 = f1_score(target_valid,predictions_valid)\n",
    "            if f1 > best_result:\n",
    "                best_model_tree_balanced = model_tree\n",
    "                best_result = f1\n",
    "                best_depth = depth\n",
    "                best_split = sample \n",
    "                best_leaf = leaf\n",
    "print(f\"F1: {round(best_result, 4)}, максимальная глубина: {depth}, минимальное количество примеров для разделения: {best_split}, минимальное количество объектов в листе: {best_leaf}\")"
   ]
  },
  {
   "cell_type": "code",
   "execution_count": 64,
   "metadata": {},
   "outputs": [
    {
     "name": "stdout",
     "output_type": "stream",
     "text": [
      "F1: 0.6624, количество деревьев: 14, максимальная глубина: 10, минимальное количество примеров для разделения: 3\n",
      "CPU times: user 8min 50s, sys: 2.53 s, total: 8min 53s\n",
      "Wall time: 8min 57s\n"
     ]
    }
   ],
   "source": [
    "%%time\n",
    "# Случайный лес\n",
    "\n",
    "best_model_forest_balanced = None\n",
    "best_result = 0\n",
    "best_est = 0\n",
    "best_depth = 0\n",
    "best_split = 0\n",
    "for sample in range(2,11):\n",
    "    for est in range(1, 50):\n",
    "        for depth in range (1, 11):\n",
    "            model_forest = RandomForestClassifier(random_state=12345, class_weight='balanced', n_estimators=est, max_depth=depth, min_samples_split=sample)\n",
    "            model_forest.fit(features_train, target_train) \n",
    "            predictions_valid = model_forest.predict(features_valid)\n",
    "            f1 = f1_score(target_valid,predictions_valid) \n",
    "            if f1 > best_result:\n",
    "                best_model_forest_balanced = model_forest\n",
    "                best_result = f1\n",
    "                best_est = est\n",
    "                best_depth = depth\n",
    "                best_split = sample\n",
    "print(f\"F1: {round(best_result, 4)}, количество деревьев: {best_est}, максимальная глубина: {depth}, минимальное количество примеров для разделения: {best_split}\")"
   ]
  },
  {
   "cell_type": "code",
   "execution_count": 65,
   "metadata": {
    "scrolled": false
   },
   "outputs": [
    {
     "name": "stdout",
     "output_type": "stream",
     "text": [
      "F1: 0.6429\n"
     ]
    }
   ],
   "source": [
    "# Логистическая регрессия\n",
    "\n",
    "for iter in range(100, 500, 1000):\n",
    "    model_logistic_balanced = LogisticRegression(random_state=12345, solver='liblinear', class_weight='balanced', max_iter=iter)\n",
    "    model_logistic_balanced.fit(features_train, target_train)\n",
    "    model_logistic_balanced.predict(features_valid)\n",
    "print(\"F1:\", round(f1_score(target_valid,predictions_valid), 4))"
   ]
  },
  {
   "cell_type": "markdown",
   "metadata": {},
   "source": [
    "Лучший результат был у модели случайного леса с техникой взвешивания классов - F1: 0.6624.  \n",
    "Затем идет логистическая регрессия с техникой взвешивания классов - F1: 0.6429.    \n",
    "И замыкает тройку модель случайного леса с техникой upsampling - F1: 0.6398    "
   ]
  },
  {
   "cell_type": "markdown",
   "metadata": {},
   "source": [
    "#### Исследование метрика AUC-ROC\n",
    "\n",
    "Построим ROC-кривую у моделей"
   ]
  },
  {
   "cell_type": "code",
   "execution_count": 66,
   "metadata": {
    "id": "qIPfE1g2NSQd"
   },
   "outputs": [],
   "source": [
    "probabilities_tree=best_model_forest_upsampled.predict_proba(features_valid)\n",
    "probabilities_one_valid_tree=probabilities_tree[:,1]\n",
    "fpr_tree,tpr_tree,thresholds=roc_curve(target_valid,probabilities_one_valid_tree)"
   ]
  },
  {
   "cell_type": "code",
   "execution_count": 67,
   "metadata": {
    "id": "ertAkP7PNSQd"
   },
   "outputs": [],
   "source": [
    "auc_roc_tree=roc_auc_score(target_valid,probabilities_one_valid_tree)"
   ]
  },
  {
   "cell_type": "code",
   "execution_count": 68,
   "metadata": {
    "colab": {
     "base_uri": "https://localhost:8080/"
    },
    "id": "xZwmz5xvNSQe",
    "outputId": "76413e1e-5f1e-4d91-a140-4ce477f55ff6"
   },
   "outputs": [
    {
     "data": {
      "text/plain": [
       "0.8694"
      ]
     },
     "execution_count": 68,
     "metadata": {},
     "output_type": "execute_result"
    }
   ],
   "source": [
    "round(auc_roc_tree, 4)"
   ]
  },
  {
   "cell_type": "code",
   "execution_count": 69,
   "metadata": {
    "id": "SoEuO16PNSQe"
   },
   "outputs": [],
   "source": [
    "probabilities_forest=best_model_forest_balanced.predict_proba(features_valid)\n",
    "probabilities_one_valid_forest=probabilities_forest[:,1]\n",
    "fpr_forest,tpr_forest,thresholds=roc_curve(target_valid,probabilities_one_valid_forest)"
   ]
  },
  {
   "cell_type": "code",
   "execution_count": 70,
   "metadata": {
    "id": "SiMAOOaYNSQe"
   },
   "outputs": [],
   "source": [
    "auc_roc_forest=roc_auc_score(target_valid,probabilities_one_valid_forest)"
   ]
  },
  {
   "cell_type": "code",
   "execution_count": 71,
   "metadata": {
    "colab": {
     "base_uri": "https://localhost:8080/"
    },
    "id": "THe-BmjpNSQe",
    "outputId": "a0d6bbbf-8a54-454d-da01-8019531b8e9e"
   },
   "outputs": [
    {
     "data": {
      "text/plain": [
       "0.8708"
      ]
     },
     "execution_count": 71,
     "metadata": {},
     "output_type": "execute_result"
    }
   ],
   "source": [
    "round(auc_roc_forest, 4)"
   ]
  },
  {
   "cell_type": "code",
   "execution_count": 72,
   "metadata": {
    "id": "0YyJwqx1NSQf"
   },
   "outputs": [],
   "source": [
    "probabilities_reg=model_logistic_balanced.predict_proba(features_valid)\n",
    "probabilities_one_valid_reg=probabilities_reg[:,1]\n",
    "fpr_log,tpr_log,thresholds=roc_curve(target_valid,probabilities_one_valid_reg)"
   ]
  },
  {
   "cell_type": "code",
   "execution_count": 73,
   "metadata": {
    "id": "i-MtgspMNSQf"
   },
   "outputs": [],
   "source": [
    "auc_roc_reg=roc_auc_score(target_valid,probabilities_one_valid_reg)"
   ]
  },
  {
   "cell_type": "code",
   "execution_count": 74,
   "metadata": {
    "colab": {
     "base_uri": "https://localhost:8080/"
    },
    "id": "xnFGqKiPNSQf",
    "outputId": "e0c2a9f5-6ab2-4a50-a35d-cfdce3e363aa"
   },
   "outputs": [
    {
     "data": {
      "text/plain": [
       "0.7779"
      ]
     },
     "execution_count": 74,
     "metadata": {},
     "output_type": "execute_result"
    }
   ],
   "source": [
    "round(auc_roc_reg, 4)"
   ]
  },
  {
   "cell_type": "code",
   "execution_count": 75,
   "metadata": {
    "colab": {
     "base_uri": "https://localhost:8080/",
     "height": 475
    },
    "id": "SWj3eMceNSQf",
    "outputId": "972be543-d2f2-4e88-bf35-9416886000db",
    "scrolled": false
   },
   "outputs": [
    {
     "data": {
      "image/png": "[encoded data removed]",
      "text/plain": [
       "<Figure size 576x432 with 1 Axes>"
      ]
     },
     "metadata": {
      "needs_background": "light"
     },
     "output_type": "display_data"
    }
   ],
   "source": [
    "plt.figure(figsize=(8,6))\n",
    "plt.plot([0, 1], [0, 1], linestyle='--')\n",
    "plt.xlim([0.0, 1.0])\n",
    "plt.ylim([0.0, 1.0])\n",
    "plt.plot(fpr_log,tpr_log)\n",
    "plt.plot(fpr_tree,tpr_tree)\n",
    "plt.plot(fpr_forest,tpr_forest)\n",
    "plt.xlabel('False Positive Rate')\n",
    "plt.ylabel('True Positive Rate')\n",
    "plt.title('ROC-кривая')\n",
    "plt.legend(('Случайная модель','Случайный лес','Логистическая регрессия','Дерево решения'),\n",
    "           loc= 'lower right') \n",
    "plt.show()"
   ]
  },
  {
   "cell_type": "markdown",
   "metadata": {},
   "source": [
    "#### Вывод\n",
    "\n",
    "Подводя итог тестирования моделей с учетом баланса, можно сделать вывод, что самая лучшая модель - это модель \"случайного леса\".  \n",
    "F1-мера составила 0.66  \n",
    "AUC-ROC 0.87\n",
    "\n",
    "Для финального тестирования будем использовать модель случайного леса с использованием техники взвешивания классов и параметрами:  \n",
    " * количество деревьев - 32\n",
    " * максимальная глубина - 10\n",
    " * минимальное количество примеров для разделения - 4"
   ]
  },
  {
   "cell_type": "markdown",
   "metadata": {},
   "source": [
    "## Тестирование модели"
   ]
  },
  {
   "cell_type": "code",
   "execution_count": 76,
   "metadata": {},
   "outputs": [],
   "source": [
    "model = RandomForestClassifier(max_depth= 10, n_estimators = 32, min_samples_split=4, random_state=12345)"
   ]
  },
  {
   "cell_type": "code",
   "execution_count": 77,
   "metadata": {
    "scrolled": false
   },
   "outputs": [
    {
     "name": "stdout",
     "output_type": "stream",
     "text": [
      "Accuracy: 0.8186\n",
      "F1-мера лучшей модели \"случайный лес\" для тестовой выборки: 0.5906\n",
      "AUC-ROC лучшей модели \"случайный лес\" для тестовой выборки: 0.8539\n"
     ]
    }
   ],
   "source": [
    "model.fit(features_train_upsampled, target_train_upsampled)\n",
    "predictions_test = model.predict(features_test)\n",
    "\n",
    "f1_test = f1_score(target_test, predictions_test)\n",
    "\n",
    "probabilities_test = model.predict_proba(features_test)\n",
    "probabilities_one_test = probabilities_test[:, 1]\n",
    "roc_auc_score_test = roc_auc_score(target_test, probabilities_one_test)  \n",
    "result_random_forest = accuracy_score(target_test, predictions_test) \n",
    "\n",
    "print('Accuracy:', round(result_random_forest, 4))\n",
    "print('F1-мера лучшей модели \"случайный лес\" для тестовой выборки:', round(f1_test, 4))\n",
    "print('AUC-ROC лучшей модели \"случайный лес\" для тестовой выборки:', round(roc_auc_score_test, 4))"
   ]
  },
  {
   "cell_type": "code",
   "execution_count": 78,
   "metadata": {},
   "outputs": [],
   "source": [
    "# Проверим на адекватность\n",
    "# Используем 2 стратегии:\n",
    "# 1. most_frequent - всегда предсказывает наиболее часто встречающуюся метку в обучающем наборе\n",
    "# 2. uniform - генерирует прогнозы равномерно случайным образом.\n",
    "\n",
    "# Подключаем модель\n",
    "from sklearn.dummy import DummyClassifier"
   ]
  },
  {
   "cell_type": "code",
   "execution_count": 79,
   "metadata": {},
   "outputs": [
    {
     "name": "stdout",
     "output_type": "stream",
     "text": [
      "Accuracy: 0.193\n",
      "F1-мера: 0.3235\n",
      "AUC-ROC: 0.5\n",
      "\n",
      "Accuracy: 0.5036\n",
      "F1-мера: 0.2884\n",
      "AUC-ROC: 0.5\n"
     ]
    }
   ],
   "source": [
    "most_frequent = DummyClassifier(strategy=\"most_frequent\", random_state=12345)\n",
    "most_frequent.fit(features_train_upsampled, target_train_upsampled)\n",
    "predictions_test = most_frequent.predict(features_test)\n",
    "\n",
    "f1_test = f1_score(target_test, predictions_test)\n",
    "\n",
    "probabilities_test = most_frequent.predict_proba(features_test)\n",
    "probabilities_one_test = probabilities_test[:, 1]\n",
    "roc_auc_score_test = roc_auc_score(target_test, probabilities_one_test)  \n",
    "\n",
    "print(\"Accuracy:\", round(most_frequent.score(features_test, target_test), 4))\n",
    "print('F1-мера:', round(f1_test, 4))\n",
    "print('AUC-ROC:', round(roc_auc_score_test, 4))\n",
    "print()      \n",
    "uniform = DummyClassifier(strategy=\"uniform\", random_state=12345)\n",
    "uniform.fit(features_train_upsampled, target_train_upsampled)\n",
    "predictions_test = uniform.predict(features_test)\n",
    "\n",
    "f1_test = f1_score(target_test, predictions_test)\n",
    "\n",
    "probabilities_test = uniform.predict_proba(features_test)\n",
    "probabilities_one_test = probabilities_test[:, 1]\n",
    "roc_auc_score_test = roc_auc_score(target_test, probabilities_one_test) \n",
    "\n",
    "print(\"Accuracy:\", round(uniform.score(features_test, target_test), 4))\n",
    "print('F1-мера:', round(f1_test, 4))\n",
    "print('AUC-ROC:', round(roc_auc_score_test, 4))"
   ]
  },
  {
   "cell_type": "markdown",
   "metadata": {},
   "source": [
    "### Общий вывод\n",
    "\n",
    "В первоначальные данных наблюдался значительный дисбаланс - 80% ответов целевого признака были отрицательными и только 20% положительными.\n",
    "\n",
    "Мы pазобрали несколько вариантов борьбы с дисбалансом (upsampling, downsampling и взвешивание классов), увеличили количество значений положительного класса.  \n",
    "Удалось достигнуть баланса:\n",
    "* 1 - 0.509481\n",
    "* 0 - 0.490519\n",
    "\n",
    "\n",
    "На cбалансированных данных все модели показали результат выше, чем на несбалансированной выборке. Лучшие всех показала себя модель случайного леса:  \n",
    "* F1-мера 0.66\n",
    "* AUC-ROC 0.87  \n",
    "\n",
    "В финальном тесте проверели адекватность модели, для этого была использована модель DummyClassifier. С помощью модели DummyClassifier, было определено, что результаты модели случайного леса выше, поэтому модель случайного леса адекватна.  \n",
    "\n",
    "После внесения корректировок в проект, достичь необходимой метрики в 0.59 F1 не удалось.  "
   ]
  }
 ],
 "metadata": {
  "ExecuteTimeLog": [
   {
    "duration": 100902,
    "start_time": "2023-10-03T15:07:48.051Z"
   },
   {
    "duration": 4893,
    "start_time": "2023-10-03T15:09:28.955Z"
   },
   {
    "duration": 126,
    "start_time": "2023-10-03T15:09:33.850Z"
   },
   {
    "duration": 19,
    "start_time": "2023-10-03T15:09:33.978Z"
   },
   {
    "duration": 25,
    "start_time": "2023-10-03T15:09:33.998Z"
   },
   {
    "duration": 45,
    "start_time": "2023-10-03T15:09:34.025Z"
   },
   {
    "duration": 4,
    "start_time": "2023-10-03T15:09:34.072Z"
   },
   {
    "duration": 24,
    "start_time": "2023-10-03T15:09:34.077Z"
   },
   {
    "duration": 13,
    "start_time": "2023-10-03T15:09:34.103Z"
   },
   {
    "duration": 8,
    "start_time": "2023-10-03T15:09:34.118Z"
   },
   {
    "duration": 14,
    "start_time": "2023-10-03T15:09:34.128Z"
   },
   {
    "duration": 9,
    "start_time": "2023-10-03T15:09:34.144Z"
   },
   {
    "duration": 11,
    "start_time": "2023-10-03T15:09:34.154Z"
   },
   {
    "duration": 19,
    "start_time": "2023-10-03T15:09:34.167Z"
   },
   {
    "duration": 19,
    "start_time": "2023-10-03T15:09:34.188Z"
   },
   {
    "duration": 106,
    "start_time": "2023-10-03T15:09:34.209Z"
   },
   {
    "duration": 989,
    "start_time": "2023-10-03T15:09:34.317Z"
   },
   {
    "duration": 5586,
    "start_time": "2023-10-04T14:16:33.181Z"
   },
   {
    "duration": 7983,
    "start_time": "2023-10-04T14:16:38.769Z"
   },
   {
    "duration": 394,
    "start_time": "2023-10-04T14:16:46.755Z"
   },
   {
    "duration": 78,
    "start_time": "2023-10-04T14:16:47.151Z"
   },
   {
    "duration": 21,
    "start_time": "2023-10-04T14:16:47.232Z"
   },
   {
    "duration": 40,
    "start_time": "2023-10-04T14:16:47.255Z"
   },
   {
    "duration": 4,
    "start_time": "2023-10-04T14:16:47.297Z"
   },
   {
    "duration": 19,
    "start_time": "2023-10-04T14:16:47.302Z"
   },
   {
    "duration": 14,
    "start_time": "2023-10-04T14:16:47.323Z"
   },
   {
    "duration": 5,
    "start_time": "2023-10-04T14:16:47.343Z"
   },
   {
    "duration": 11,
    "start_time": "2023-10-04T14:16:47.349Z"
   },
   {
    "duration": 31,
    "start_time": "2023-10-04T14:16:47.362Z"
   },
   {
    "duration": 21,
    "start_time": "2023-10-04T14:16:47.395Z"
   },
   {
    "duration": 23,
    "start_time": "2023-10-04T14:16:47.419Z"
   },
   {
    "duration": 10,
    "start_time": "2023-10-04T14:16:47.444Z"
   },
   {
    "duration": 138,
    "start_time": "2023-10-04T14:16:47.455Z"
   },
   {
    "duration": 924,
    "start_time": "2023-10-04T14:16:47.595Z"
   },
   {
    "duration": 150,
    "start_time": "2023-10-04T14:16:48.520Z"
   },
   {
    "duration": 9,
    "start_time": "2023-10-04T14:16:48.672Z"
   },
   {
    "duration": 38,
    "start_time": "2023-10-04T14:16:48.683Z"
   },
   {
    "duration": 20,
    "start_time": "2023-10-04T14:16:48.723Z"
   },
   {
    "duration": 33,
    "start_time": "2023-10-04T14:16:48.744Z"
   },
   {
    "duration": 10,
    "start_time": "2023-10-04T14:16:48.779Z"
   },
   {
    "duration": 30,
    "start_time": "2023-10-04T14:16:48.791Z"
   },
   {
    "duration": 14140,
    "start_time": "2023-10-04T14:16:48.823Z"
   },
   {
    "duration": 477411,
    "start_time": "2023-10-04T14:17:02.965Z"
   },
   {
    "duration": 567,
    "start_time": "2023-10-04T14:25:00.378Z"
   },
   {
    "duration": 96,
    "start_time": "2023-10-04T14:25:00.949Z"
   },
   {
    "duration": 79,
    "start_time": "2023-10-04T14:25:01.047Z"
   },
   {
    "duration": 110,
    "start_time": "2023-10-04T14:25:01.127Z"
   },
   {
    "duration": 110,
    "start_time": "2023-10-04T14:25:01.239Z"
   },
   {
    "duration": 28,
    "start_time": "2023-10-04T14:25:01.351Z"
   },
   {
    "duration": 65,
    "start_time": "2023-10-04T14:25:01.382Z"
   },
   {
    "duration": 103,
    "start_time": "2023-10-04T14:25:01.449Z"
   },
   {
    "duration": 292,
    "start_time": "2023-10-04T14:25:01.555Z"
   },
   {
    "duration": 220,
    "start_time": "2023-10-04T14:25:01.849Z"
   },
   {
    "duration": 264,
    "start_time": "2023-10-04T14:25:02.071Z"
   },
   {
    "duration": 7,
    "start_time": "2023-10-04T14:25:02.338Z"
   },
   {
    "duration": 166,
    "start_time": "2023-10-04T14:25:02.347Z"
   },
   {
    "duration": 5,
    "start_time": "2023-10-04T14:25:02.515Z"
   },
   {
    "duration": 71,
    "start_time": "2023-10-04T14:25:02.524Z"
   },
   {
    "duration": 61,
    "start_time": "2023-10-04T14:25:02.597Z"
   },
   {
    "duration": 11598,
    "start_time": "2023-10-04T14:25:02.660Z"
   },
   {
    "duration": 406549,
    "start_time": "2023-10-04T14:25:14.260Z"
   },
   {
    "duration": 239,
    "start_time": "2023-10-04T14:32:00.811Z"
   },
   {
    "duration": 95,
    "start_time": "2023-10-04T14:32:01.053Z"
   },
   {
    "duration": 682,
    "start_time": "2023-10-04T14:32:01.150Z"
   },
   {
    "duration": 226,
    "start_time": "2023-10-04T14:32:01.834Z"
   },
   {
    "duration": 110,
    "start_time": "2023-10-04T14:32:02.062Z"
   },
   {
    "duration": 135,
    "start_time": "2023-10-04T14:32:02.173Z"
   },
   {
    "duration": 129,
    "start_time": "2023-10-04T14:32:02.310Z"
   },
   {
    "duration": 133,
    "start_time": "2023-10-04T14:32:02.441Z"
   },
   {
    "duration": 170,
    "start_time": "2023-10-04T14:32:02.577Z"
   },
   {
    "duration": 55,
    "start_time": "2023-10-04T14:32:02.749Z"
   },
   {
    "duration": 194,
    "start_time": "2023-10-04T14:32:02.806Z"
   },
   {
    "duration": 3,
    "start_time": "2023-10-04T14:32:03.001Z"
   },
   {
    "duration": 242,
    "start_time": "2023-10-04T14:32:03.006Z"
   },
   {
    "duration": 7,
    "start_time": "2023-10-04T14:32:03.250Z"
   },
   {
    "duration": 61070,
    "start_time": "2023-10-17T16:31:39.909Z"
   },
   {
    "duration": 4270,
    "start_time": "2023-10-17T16:32:40.981Z"
   },
   {
    "duration": 133,
    "start_time": "2023-10-17T16:32:45.253Z"
   },
   {
    "duration": 20,
    "start_time": "2023-10-17T16:32:45.389Z"
   },
   {
    "duration": 356,
    "start_time": "2023-10-17T16:32:45.411Z"
   },
   {
    "duration": 36,
    "start_time": "2023-10-17T16:32:45.770Z"
   },
   {
    "duration": 5,
    "start_time": "2023-10-17T16:32:45.808Z"
   },
   {
    "duration": 23,
    "start_time": "2023-10-17T16:32:45.815Z"
   },
   {
    "duration": 11,
    "start_time": "2023-10-17T16:32:45.840Z"
   },
   {
    "duration": 17,
    "start_time": "2023-10-17T16:32:45.854Z"
   },
   {
    "duration": 13,
    "start_time": "2023-10-17T16:32:45.873Z"
   },
   {
    "duration": 32,
    "start_time": "2023-10-17T16:32:45.888Z"
   },
   {
    "duration": 30,
    "start_time": "2023-10-17T16:32:45.925Z"
   },
   {
    "duration": 36,
    "start_time": "2023-10-17T16:32:45.957Z"
   },
   {
    "duration": 192,
    "start_time": "2023-10-17T16:32:45.995Z"
   },
   {
    "duration": 908,
    "start_time": "2023-10-17T16:32:46.189Z"
   },
   {
    "duration": 266,
    "start_time": "2023-10-17T16:32:47.099Z"
   },
   {
    "duration": 3,
    "start_time": "2023-10-17T16:32:47.366Z"
   },
   {
    "duration": 17,
    "start_time": "2023-10-17T16:32:47.371Z"
   },
   {
    "duration": 27,
    "start_time": "2023-10-17T16:32:47.390Z"
   },
   {
    "duration": 146,
    "start_time": "2023-10-17T16:32:47.418Z"
   },
   {
    "duration": 0,
    "start_time": "2023-10-17T16:32:47.566Z"
   },
   {
    "duration": 4,
    "start_time": "2023-10-17T16:36:49.782Z"
   },
   {
    "duration": 12,
    "start_time": "2023-10-17T16:36:52.038Z"
   },
   {
    "duration": 13,
    "start_time": "2023-10-17T16:36:55.308Z"
   },
   {
    "duration": 15,
    "start_time": "2023-10-17T16:37:00.878Z"
   },
   {
    "duration": 22,
    "start_time": "2023-10-17T16:37:05.613Z"
   },
   {
    "duration": 3,
    "start_time": "2023-10-17T16:41:46.713Z"
   },
   {
    "duration": 4,
    "start_time": "2023-10-17T16:41:47.110Z"
   },
   {
    "duration": 8,
    "start_time": "2023-10-17T16:41:47.587Z"
   },
   {
    "duration": 7,
    "start_time": "2023-10-17T16:41:47.993Z"
   },
   {
    "duration": 17,
    "start_time": "2023-10-17T16:41:48.341Z"
   },
   {
    "duration": 4,
    "start_time": "2023-10-17T16:41:48.641Z"
   },
   {
    "duration": 11,
    "start_time": "2023-10-17T16:41:55.405Z"
   },
   {
    "duration": 4,
    "start_time": "2023-10-17T16:42:01.396Z"
   },
   {
    "duration": 5,
    "start_time": "2023-10-17T16:42:09.415Z"
   },
   {
    "duration": 4,
    "start_time": "2023-10-17T16:42:18.204Z"
   },
   {
    "duration": 127,
    "start_time": "2023-10-17T16:44:15.496Z"
   },
   {
    "duration": 126,
    "start_time": "2023-10-17T16:44:20.088Z"
   },
   {
    "duration": 125,
    "start_time": "2023-10-17T16:44:25.038Z"
   },
   {
    "duration": 35725,
    "start_time": "2023-10-19T18:03:56.083Z"
   },
   {
    "duration": 4187,
    "start_time": "2023-10-19T18:04:31.810Z"
   },
   {
    "duration": 123,
    "start_time": "2023-10-19T18:04:36.000Z"
   },
   {
    "duration": 148,
    "start_time": "2023-10-19T18:04:36.125Z"
   },
   {
    "duration": 23,
    "start_time": "2023-10-19T18:04:36.275Z"
   },
   {
    "duration": 45,
    "start_time": "2023-10-19T18:04:36.300Z"
   },
   {
    "duration": 4,
    "start_time": "2023-10-19T18:04:36.347Z"
   },
   {
    "duration": 21,
    "start_time": "2023-10-19T18:04:36.352Z"
   },
   {
    "duration": 56,
    "start_time": "2023-10-19T18:04:36.375Z"
   },
   {
    "duration": 54,
    "start_time": "2023-10-19T18:04:36.434Z"
   },
   {
    "duration": 26,
    "start_time": "2023-10-19T18:04:36.490Z"
   },
   {
    "duration": 33,
    "start_time": "2023-10-19T18:04:36.518Z"
   },
   {
    "duration": 81,
    "start_time": "2023-10-19T18:04:36.553Z"
   },
   {
    "duration": 38,
    "start_time": "2023-10-19T18:04:36.636Z"
   },
   {
    "duration": 174,
    "start_time": "2023-10-19T18:04:36.676Z"
   },
   {
    "duration": 927,
    "start_time": "2023-10-19T18:04:36.852Z"
   },
   {
    "duration": 272,
    "start_time": "2023-10-19T18:04:37.781Z"
   },
   {
    "duration": 163,
    "start_time": "2023-10-19T18:04:38.055Z"
   },
   {
    "duration": 139,
    "start_time": "2023-10-19T18:04:38.220Z"
   },
   {
    "duration": 182,
    "start_time": "2023-10-19T18:04:38.361Z"
   },
   {
    "duration": 0,
    "start_time": "2023-10-19T18:04:38.547Z"
   },
   {
    "duration": 0,
    "start_time": "2023-10-19T18:04:38.551Z"
   },
   {
    "duration": 0,
    "start_time": "2023-10-19T18:04:38.552Z"
   },
   {
    "duration": 0,
    "start_time": "2023-10-19T18:04:38.553Z"
   },
   {
    "duration": 0,
    "start_time": "2023-10-19T18:04:38.554Z"
   },
   {
    "duration": 0,
    "start_time": "2023-10-19T18:04:38.554Z"
   },
   {
    "duration": 0,
    "start_time": "2023-10-19T18:04:38.555Z"
   },
   {
    "duration": 0,
    "start_time": "2023-10-19T18:04:38.556Z"
   },
   {
    "duration": 0,
    "start_time": "2023-10-19T18:04:38.557Z"
   },
   {
    "duration": 0,
    "start_time": "2023-10-19T18:04:38.558Z"
   },
   {
    "duration": 0,
    "start_time": "2023-10-19T18:04:38.559Z"
   },
   {
    "duration": 0,
    "start_time": "2023-10-19T18:04:38.560Z"
   },
   {
    "duration": 0,
    "start_time": "2023-10-19T18:04:38.561Z"
   },
   {
    "duration": 0,
    "start_time": "2023-10-19T18:04:38.562Z"
   },
   {
    "duration": 0,
    "start_time": "2023-10-19T18:04:38.563Z"
   },
   {
    "duration": 0,
    "start_time": "2023-10-19T18:04:38.567Z"
   },
   {
    "duration": 0,
    "start_time": "2023-10-19T18:04:38.568Z"
   },
   {
    "duration": 0,
    "start_time": "2023-10-19T18:04:38.569Z"
   },
   {
    "duration": 0,
    "start_time": "2023-10-19T18:04:38.572Z"
   },
   {
    "duration": 0,
    "start_time": "2023-10-19T18:04:38.573Z"
   },
   {
    "duration": 0,
    "start_time": "2023-10-19T18:04:38.574Z"
   },
   {
    "duration": 0,
    "start_time": "2023-10-19T18:04:38.575Z"
   },
   {
    "duration": 0,
    "start_time": "2023-10-19T18:04:38.575Z"
   },
   {
    "duration": 0,
    "start_time": "2023-10-19T18:04:38.576Z"
   },
   {
    "duration": 0,
    "start_time": "2023-10-19T18:04:38.601Z"
   },
   {
    "duration": 0,
    "start_time": "2023-10-19T18:04:38.603Z"
   },
   {
    "duration": 0,
    "start_time": "2023-10-19T18:04:38.604Z"
   },
   {
    "duration": 0,
    "start_time": "2023-10-19T18:04:38.605Z"
   },
   {
    "duration": 0,
    "start_time": "2023-10-19T18:04:38.607Z"
   },
   {
    "duration": 0,
    "start_time": "2023-10-19T18:04:38.608Z"
   },
   {
    "duration": 0,
    "start_time": "2023-10-19T18:04:38.609Z"
   },
   {
    "duration": 0,
    "start_time": "2023-10-19T18:04:38.609Z"
   },
   {
    "duration": 0,
    "start_time": "2023-10-19T18:04:38.610Z"
   },
   {
    "duration": 0,
    "start_time": "2023-10-19T18:04:38.611Z"
   },
   {
    "duration": 0,
    "start_time": "2023-10-19T18:04:38.612Z"
   },
   {
    "duration": 0,
    "start_time": "2023-10-19T18:04:38.613Z"
   },
   {
    "duration": 3475,
    "start_time": "2023-10-19T18:04:47.935Z"
   },
   {
    "duration": 4199,
    "start_time": "2023-10-19T18:04:51.412Z"
   },
   {
    "duration": 86,
    "start_time": "2023-10-19T18:04:55.614Z"
   },
   {
    "duration": 20,
    "start_time": "2023-10-19T18:04:55.702Z"
   },
   {
    "duration": 121,
    "start_time": "2023-10-19T18:04:55.724Z"
   },
   {
    "duration": 280,
    "start_time": "2023-10-19T18:04:55.847Z"
   },
   {
    "duration": 18,
    "start_time": "2023-10-19T18:04:56.129Z"
   },
   {
    "duration": 128,
    "start_time": "2023-10-19T18:04:56.148Z"
   },
   {
    "duration": 415,
    "start_time": "2023-10-19T18:04:56.278Z"
   },
   {
    "duration": 527,
    "start_time": "2023-10-19T18:04:56.696Z"
   },
   {
    "duration": 34,
    "start_time": "2023-10-19T18:04:57.224Z"
   },
   {
    "duration": 9,
    "start_time": "2023-10-19T18:04:57.259Z"
   },
   {
    "duration": 21,
    "start_time": "2023-10-19T18:04:57.270Z"
   },
   {
    "duration": 25,
    "start_time": "2023-10-19T18:04:57.293Z"
   },
   {
    "duration": 260,
    "start_time": "2023-10-19T18:04:57.319Z"
   },
   {
    "duration": 879,
    "start_time": "2023-10-19T18:04:57.581Z"
   },
   {
    "duration": 186,
    "start_time": "2023-10-19T18:04:58.462Z"
   },
   {
    "duration": 5,
    "start_time": "2023-10-19T18:04:58.650Z"
   },
   {
    "duration": 24,
    "start_time": "2023-10-19T18:04:58.657Z"
   },
   {
    "duration": 149,
    "start_time": "2023-10-19T18:04:58.683Z"
   },
   {
    "duration": 0,
    "start_time": "2023-10-19T18:04:58.836Z"
   },
   {
    "duration": 0,
    "start_time": "2023-10-19T18:04:58.837Z"
   },
   {
    "duration": 0,
    "start_time": "2023-10-19T18:04:58.839Z"
   },
   {
    "duration": 0,
    "start_time": "2023-10-19T18:04:58.840Z"
   },
   {
    "duration": 0,
    "start_time": "2023-10-19T18:04:58.841Z"
   },
   {
    "duration": 0,
    "start_time": "2023-10-19T18:04:58.842Z"
   },
   {
    "duration": 0,
    "start_time": "2023-10-19T18:04:58.843Z"
   },
   {
    "duration": 0,
    "start_time": "2023-10-19T18:04:58.844Z"
   },
   {
    "duration": 0,
    "start_time": "2023-10-19T18:04:58.845Z"
   },
   {
    "duration": 0,
    "start_time": "2023-10-19T18:04:58.846Z"
   },
   {
    "duration": 0,
    "start_time": "2023-10-19T18:04:58.847Z"
   },
   {
    "duration": 0,
    "start_time": "2023-10-19T18:04:58.848Z"
   },
   {
    "duration": 0,
    "start_time": "2023-10-19T18:04:58.849Z"
   },
   {
    "duration": 0,
    "start_time": "2023-10-19T18:04:58.851Z"
   },
   {
    "duration": 0,
    "start_time": "2023-10-19T18:04:58.852Z"
   },
   {
    "duration": 0,
    "start_time": "2023-10-19T18:04:58.853Z"
   },
   {
    "duration": 0,
    "start_time": "2023-10-19T18:04:58.854Z"
   },
   {
    "duration": 0,
    "start_time": "2023-10-19T18:04:58.855Z"
   },
   {
    "duration": 0,
    "start_time": "2023-10-19T18:04:58.856Z"
   },
   {
    "duration": 0,
    "start_time": "2023-10-19T18:04:58.857Z"
   },
   {
    "duration": 0,
    "start_time": "2023-10-19T18:04:58.858Z"
   },
   {
    "duration": 0,
    "start_time": "2023-10-19T18:04:58.858Z"
   },
   {
    "duration": 0,
    "start_time": "2023-10-19T18:04:58.902Z"
   },
   {
    "duration": 0,
    "start_time": "2023-10-19T18:04:58.904Z"
   },
   {
    "duration": 0,
    "start_time": "2023-10-19T18:04:58.905Z"
   },
   {
    "duration": 0,
    "start_time": "2023-10-19T18:04:58.906Z"
   },
   {
    "duration": 0,
    "start_time": "2023-10-19T18:04:58.907Z"
   },
   {
    "duration": 0,
    "start_time": "2023-10-19T18:04:58.908Z"
   },
   {
    "duration": 0,
    "start_time": "2023-10-19T18:04:58.910Z"
   },
   {
    "duration": 0,
    "start_time": "2023-10-19T18:04:58.911Z"
   },
   {
    "duration": 0,
    "start_time": "2023-10-19T18:04:58.913Z"
   },
   {
    "duration": 0,
    "start_time": "2023-10-19T18:04:58.914Z"
   },
   {
    "duration": 0,
    "start_time": "2023-10-19T18:04:58.915Z"
   },
   {
    "duration": 0,
    "start_time": "2023-10-19T18:04:58.917Z"
   },
   {
    "duration": 0,
    "start_time": "2023-10-19T18:04:58.918Z"
   },
   {
    "duration": 0,
    "start_time": "2023-10-19T18:04:58.920Z"
   },
   {
    "duration": 0,
    "start_time": "2023-10-19T18:04:58.921Z"
   },
   {
    "duration": 0,
    "start_time": "2023-10-19T18:04:58.922Z"
   },
   {
    "duration": 0,
    "start_time": "2023-10-19T18:04:58.923Z"
   },
   {
    "duration": 0,
    "start_time": "2023-10-19T18:04:58.925Z"
   },
   {
    "duration": 0,
    "start_time": "2023-10-19T18:04:58.926Z"
   },
   {
    "duration": 0,
    "start_time": "2023-10-19T18:04:58.927Z"
   },
   {
    "duration": 0,
    "start_time": "2023-10-19T18:04:58.928Z"
   },
   {
    "duration": 0,
    "start_time": "2023-10-19T18:04:58.929Z"
   },
   {
    "duration": 0,
    "start_time": "2023-10-19T18:04:58.931Z"
   },
   {
    "duration": 0,
    "start_time": "2023-10-19T18:04:58.932Z"
   },
   {
    "duration": 0,
    "start_time": "2023-10-19T18:04:58.933Z"
   },
   {
    "duration": 0,
    "start_time": "2023-10-19T18:04:58.934Z"
   },
   {
    "duration": 0,
    "start_time": "2023-10-19T18:04:58.935Z"
   },
   {
    "duration": 0,
    "start_time": "2023-10-19T18:04:58.936Z"
   },
   {
    "duration": 0,
    "start_time": "2023-10-19T18:04:58.937Z"
   },
   {
    "duration": 0,
    "start_time": "2023-10-19T18:04:59.002Z"
   },
   {
    "duration": 0,
    "start_time": "2023-10-19T18:04:59.003Z"
   },
   {
    "duration": 0,
    "start_time": "2023-10-19T18:04:59.004Z"
   },
   {
    "duration": 0,
    "start_time": "2023-10-19T18:04:59.005Z"
   },
   {
    "duration": 0,
    "start_time": "2023-10-19T18:04:59.007Z"
   },
   {
    "duration": 0,
    "start_time": "2023-10-19T18:04:59.008Z"
   },
   {
    "duration": 0,
    "start_time": "2023-10-19T18:04:59.009Z"
   },
   {
    "duration": 0,
    "start_time": "2023-10-19T18:04:59.010Z"
   },
   {
    "duration": 0,
    "start_time": "2023-10-19T18:04:59.011Z"
   },
   {
    "duration": 0,
    "start_time": "2023-10-19T18:04:59.013Z"
   },
   {
    "duration": 0,
    "start_time": "2023-10-19T18:04:59.014Z"
   },
   {
    "duration": 0,
    "start_time": "2023-10-19T18:04:59.015Z"
   },
   {
    "duration": 0,
    "start_time": "2023-10-19T18:04:59.016Z"
   },
   {
    "duration": 0,
    "start_time": "2023-10-19T18:04:59.017Z"
   },
   {
    "duration": 0,
    "start_time": "2023-10-19T18:04:59.018Z"
   },
   {
    "duration": 0,
    "start_time": "2023-10-19T18:04:59.019Z"
   },
   {
    "duration": 0,
    "start_time": "2023-10-19T18:04:59.021Z"
   },
   {
    "duration": 0,
    "start_time": "2023-10-19T18:04:59.022Z"
   },
   {
    "duration": 0,
    "start_time": "2023-10-19T18:04:59.023Z"
   },
   {
    "duration": 0,
    "start_time": "2023-10-19T18:04:59.024Z"
   },
   {
    "duration": 0,
    "start_time": "2023-10-19T18:04:59.025Z"
   },
   {
    "duration": 0,
    "start_time": "2023-10-19T18:04:59.026Z"
   },
   {
    "duration": 0,
    "start_time": "2023-10-19T18:04:59.027Z"
   },
   {
    "duration": 0,
    "start_time": "2023-10-19T18:04:59.028Z"
   },
   {
    "duration": 0,
    "start_time": "2023-10-19T18:04:59.029Z"
   },
   {
    "duration": 0,
    "start_time": "2023-10-19T18:04:59.031Z"
   },
   {
    "duration": 0,
    "start_time": "2023-10-19T18:04:59.032Z"
   },
   {
    "duration": 0,
    "start_time": "2023-10-19T18:04:59.033Z"
   },
   {
    "duration": 0,
    "start_time": "2023-10-19T18:04:59.034Z"
   },
   {
    "duration": 0,
    "start_time": "2023-10-19T18:04:59.035Z"
   },
   {
    "duration": 0,
    "start_time": "2023-10-19T18:04:59.037Z"
   },
   {
    "duration": 0,
    "start_time": "2023-10-19T18:04:59.038Z"
   },
   {
    "duration": 0,
    "start_time": "2023-10-19T18:04:59.101Z"
   },
   {
    "duration": 0,
    "start_time": "2023-10-19T18:04:59.103Z"
   },
   {
    "duration": 0,
    "start_time": "2023-10-19T18:04:59.104Z"
   },
   {
    "duration": 0,
    "start_time": "2023-10-19T18:04:59.106Z"
   },
   {
    "duration": 0,
    "start_time": "2023-10-19T18:04:59.107Z"
   },
   {
    "duration": 0,
    "start_time": "2023-10-19T18:04:59.108Z"
   },
   {
    "duration": 0,
    "start_time": "2023-10-19T18:04:59.110Z"
   },
   {
    "duration": 0,
    "start_time": "2023-10-19T18:04:59.111Z"
   },
   {
    "duration": 0,
    "start_time": "2023-10-19T18:04:59.112Z"
   },
   {
    "duration": 0,
    "start_time": "2023-10-19T18:04:59.113Z"
   },
   {
    "duration": 1,
    "start_time": "2023-10-19T18:04:59.113Z"
   },
   {
    "duration": 0,
    "start_time": "2023-10-19T18:04:59.115Z"
   },
   {
    "duration": 0,
    "start_time": "2023-10-19T18:04:59.116Z"
   },
   {
    "duration": 0,
    "start_time": "2023-10-19T18:04:59.118Z"
   },
   {
    "duration": 0,
    "start_time": "2023-10-19T18:04:59.119Z"
   },
   {
    "duration": 0,
    "start_time": "2023-10-19T18:04:59.121Z"
   },
   {
    "duration": 0,
    "start_time": "2023-10-19T18:04:59.122Z"
   },
   {
    "duration": 0,
    "start_time": "2023-10-19T18:04:59.123Z"
   },
   {
    "duration": 0,
    "start_time": "2023-10-19T18:04:59.124Z"
   },
   {
    "duration": 0,
    "start_time": "2023-10-19T18:04:59.125Z"
   },
   {
    "duration": 0,
    "start_time": "2023-10-19T18:04:59.126Z"
   },
   {
    "duration": 0,
    "start_time": "2023-10-19T18:04:59.128Z"
   },
   {
    "duration": 0,
    "start_time": "2023-10-19T18:04:59.128Z"
   },
   {
    "duration": 0,
    "start_time": "2023-10-19T18:04:59.130Z"
   },
   {
    "duration": 11809,
    "start_time": "2023-10-19T18:25:21.819Z"
   },
   {
    "duration": 3380,
    "start_time": "2023-10-19T18:25:46.105Z"
   },
   {
    "duration": 2349,
    "start_time": "2023-10-19T18:25:49.488Z"
   },
   {
    "duration": 94,
    "start_time": "2023-10-19T18:25:51.839Z"
   },
   {
    "duration": 21,
    "start_time": "2023-10-19T18:25:51.936Z"
   },
   {
    "duration": 36,
    "start_time": "2023-10-19T18:25:51.960Z"
   },
   {
    "duration": 44,
    "start_time": "2023-10-19T18:25:51.999Z"
   },
   {
    "duration": 4,
    "start_time": "2023-10-19T18:25:52.045Z"
   },
   {
    "duration": 33,
    "start_time": "2023-10-19T18:25:52.051Z"
   },
   {
    "duration": 21,
    "start_time": "2023-10-19T18:25:52.085Z"
   },
   {
    "duration": 12,
    "start_time": "2023-10-19T18:25:52.109Z"
   },
   {
    "duration": 41,
    "start_time": "2023-10-19T18:25:52.123Z"
   },
   {
    "duration": 35,
    "start_time": "2023-10-19T18:25:52.166Z"
   },
   {
    "duration": 26,
    "start_time": "2023-10-19T18:25:52.203Z"
   },
   {
    "duration": 19,
    "start_time": "2023-10-19T18:25:52.231Z"
   },
   {
    "duration": 153,
    "start_time": "2023-10-19T18:25:52.252Z"
   },
   {
    "duration": 1004,
    "start_time": "2023-10-19T18:25:52.407Z"
   },
   {
    "duration": 179,
    "start_time": "2023-10-19T18:25:53.413Z"
   },
   {
    "duration": 5,
    "start_time": "2023-10-19T18:25:53.601Z"
   },
   {
    "duration": 11,
    "start_time": "2023-10-19T18:25:53.608Z"
   },
   {
    "duration": 20,
    "start_time": "2023-10-19T18:25:53.621Z"
   },
   {
    "duration": 27,
    "start_time": "2023-10-19T18:25:53.643Z"
   },
   {
    "duration": 30,
    "start_time": "2023-10-19T18:25:53.672Z"
   },
   {
    "duration": 16,
    "start_time": "2023-10-19T18:25:53.703Z"
   },
   {
    "duration": 24,
    "start_time": "2023-10-19T18:25:53.721Z"
   },
   {
    "duration": 41,
    "start_time": "2023-10-19T18:25:53.747Z"
   },
   {
    "duration": 29,
    "start_time": "2023-10-19T18:25:53.790Z"
   },
   {
    "duration": 27,
    "start_time": "2023-10-19T18:25:53.821Z"
   },
   {
    "duration": 51,
    "start_time": "2023-10-19T18:25:53.853Z"
   },
   {
    "duration": 66,
    "start_time": "2023-10-19T18:25:53.907Z"
   },
   {
    "duration": 99,
    "start_time": "2023-10-19T18:25:53.975Z"
   },
   {
    "duration": 79,
    "start_time": "2023-10-19T18:25:54.076Z"
   },
   {
    "duration": 22,
    "start_time": "2023-10-19T18:25:54.157Z"
   },
   {
    "duration": 8,
    "start_time": "2023-10-19T18:25:54.181Z"
   },
   {
    "duration": 9,
    "start_time": "2023-10-19T18:25:54.191Z"
   },
   {
    "duration": 5,
    "start_time": "2023-10-19T18:25:54.202Z"
   },
   {
    "duration": 10,
    "start_time": "2023-10-19T18:25:54.209Z"
   },
   {
    "duration": 49,
    "start_time": "2023-10-19T18:25:54.221Z"
   },
   {
    "duration": 17460,
    "start_time": "2023-10-19T18:25:54.271Z"
   },
   {
    "duration": 187189,
    "start_time": "2023-10-19T18:26:11.733Z"
   },
   {
    "duration": 379,
    "start_time": "2023-10-19T18:29:18.924Z"
   },
   {
    "duration": 97,
    "start_time": "2023-10-19T18:29:19.306Z"
   },
   {
    "duration": 8,
    "start_time": "2023-10-19T18:29:19.404Z"
   },
   {
    "duration": 5,
    "start_time": "2023-10-19T18:29:19.414Z"
   },
   {
    "duration": 40,
    "start_time": "2023-10-19T18:29:19.421Z"
   },
   {
    "duration": 6,
    "start_time": "2023-10-19T18:29:19.462Z"
   },
   {
    "duration": 33,
    "start_time": "2023-10-19T18:29:19.469Z"
   },
   {
    "duration": 26,
    "start_time": "2023-10-19T18:29:19.504Z"
   },
   {
    "duration": 75,
    "start_time": "2023-10-19T18:29:19.533Z"
   },
   {
    "duration": 4,
    "start_time": "2023-10-19T18:29:19.701Z"
   },
   {
    "duration": 180,
    "start_time": "2023-10-19T18:29:19.707Z"
   },
   {
    "duration": 4,
    "start_time": "2023-10-19T18:29:19.889Z"
   },
   {
    "duration": 15,
    "start_time": "2023-10-19T18:29:19.901Z"
   },
   {
    "duration": 4,
    "start_time": "2023-10-19T18:29:19.918Z"
   },
   {
    "duration": 14,
    "start_time": "2023-10-19T18:29:19.924Z"
   },
   {
    "duration": 6,
    "start_time": "2023-10-19T18:29:19.940Z"
   },
   {
    "duration": 10,
    "start_time": "2023-10-19T18:29:19.948Z"
   },
   {
    "duration": 10116,
    "start_time": "2023-10-19T18:29:19.960Z"
   },
   {
    "duration": 335580,
    "start_time": "2023-10-19T18:29:30.078Z"
   },
   {
    "duration": 150,
    "start_time": "2023-10-19T18:35:05.660Z"
   },
   {
    "duration": 21473,
    "start_time": "2023-10-19T18:35:05.903Z"
   },
   {
    "duration": 701312,
    "start_time": "2023-10-19T18:35:27.378Z"
   },
   {
    "duration": 514,
    "start_time": "2023-10-19T18:47:08.692Z"
   },
   {
    "duration": 18904,
    "start_time": "2023-10-19T18:47:09.209Z"
   },
   {
    "duration": 537574,
    "start_time": "2023-10-19T18:47:28.114Z"
   },
   {
    "duration": 112,
    "start_time": "2023-10-19T18:56:25.690Z"
   },
   {
    "duration": 110,
    "start_time": "2023-10-19T18:56:25.805Z"
   },
   {
    "duration": 6,
    "start_time": "2023-10-19T18:56:25.916Z"
   },
   {
    "duration": 23,
    "start_time": "2023-10-19T18:56:25.924Z"
   },
   {
    "duration": 27,
    "start_time": "2023-10-19T18:56:25.949Z"
   },
   {
    "duration": 6,
    "start_time": "2023-10-19T18:56:25.978Z"
   },
   {
    "duration": 17,
    "start_time": "2023-10-19T18:56:25.986Z"
   },
   {
    "duration": 44,
    "start_time": "2023-10-19T18:56:26.005Z"
   },
   {
    "duration": 56,
    "start_time": "2023-10-19T18:56:26.052Z"
   },
   {
    "duration": 15,
    "start_time": "2023-10-19T18:56:26.201Z"
   },
   {
    "duration": 185,
    "start_time": "2023-10-19T18:56:26.218Z"
   },
   {
    "duration": 4,
    "start_time": "2023-10-19T18:56:26.406Z"
   },
   {
    "duration": 334,
    "start_time": "2023-10-19T18:56:26.412Z"
   },
   {
    "duration": 3,
    "start_time": "2023-10-19T18:56:26.749Z"
   },
   {
    "duration": 27,
    "start_time": "2023-10-19T18:56:26.755Z"
   },
   {
    "duration": 67,
    "start_time": "2023-10-19T18:56:26.801Z"
   },
   {
    "duration": 116,
    "start_time": "2023-10-19T18:56:26.870Z"
   },
   {
    "duration": 3,
    "start_time": "2023-10-19T18:56:27.001Z"
   },
   {
    "duration": 9,
    "start_time": "2023-10-19T18:56:27.006Z"
   },
   {
    "duration": 9,
    "start_time": "2023-10-19T18:56:27.017Z"
   },
   {
    "duration": 12,
    "start_time": "2023-10-19T18:56:27.028Z"
   },
   {
    "duration": 26,
    "start_time": "2023-10-19T18:56:27.042Z"
   },
   {
    "duration": 5,
    "start_time": "2023-10-19T18:56:27.070Z"
   },
   {
    "duration": 26,
    "start_time": "2023-10-19T18:56:27.077Z"
   },
   {
    "duration": 7,
    "start_time": "2023-10-19T18:56:27.105Z"
   },
   {
    "duration": 7,
    "start_time": "2023-10-19T18:56:27.114Z"
   },
   {
    "duration": 6,
    "start_time": "2023-10-19T18:56:27.122Z"
   },
   {
    "duration": 31,
    "start_time": "2023-10-19T18:56:27.130Z"
   },
   {
    "duration": 13,
    "start_time": "2023-10-19T18:56:27.163Z"
   },
   {
    "duration": 29,
    "start_time": "2023-10-19T18:56:27.178Z"
   },
   {
    "duration": 17,
    "start_time": "2023-10-19T18:56:27.209Z"
   },
   {
    "duration": 9,
    "start_time": "2023-10-19T18:56:27.228Z"
   },
   {
    "duration": 6,
    "start_time": "2023-10-19T18:56:27.239Z"
   },
   {
    "duration": 7,
    "start_time": "2023-10-19T18:56:27.247Z"
   },
   {
    "duration": 8,
    "start_time": "2023-10-19T18:56:27.256Z"
   },
   {
    "duration": 5,
    "start_time": "2023-10-19T18:56:27.266Z"
   },
   {
    "duration": 30,
    "start_time": "2023-10-19T18:56:27.272Z"
   },
   {
    "duration": 22,
    "start_time": "2023-10-19T18:56:27.304Z"
   },
   {
    "duration": 5,
    "start_time": "2023-10-19T18:56:27.328Z"
   },
   {
    "duration": 19,
    "start_time": "2023-10-19T18:56:27.335Z"
   },
   {
    "duration": 5,
    "start_time": "2023-10-19T18:56:27.356Z"
   },
   {
    "duration": 7,
    "start_time": "2023-10-19T18:56:27.363Z"
   },
   {
    "duration": 10567,
    "start_time": "2023-10-19T18:56:27.372Z"
   },
   {
    "duration": 356340,
    "start_time": "2023-10-19T18:56:37.941Z"
   },
   {
    "duration": 129,
    "start_time": "2023-10-19T19:02:34.284Z"
   },
   {
    "duration": 21851,
    "start_time": "2023-10-19T19:02:34.502Z"
   },
   {
    "duration": 710388,
    "start_time": "2023-10-19T19:02:56.355Z"
   },
   {
    "duration": 356,
    "start_time": "2023-10-19T19:14:46.746Z"
   },
   {
    "duration": 19496,
    "start_time": "2023-10-19T19:14:47.105Z"
   },
   {
    "duration": 469759,
    "start_time": "2023-10-19T19:15:06.604Z"
   },
   {
    "duration": 39,
    "start_time": "2023-10-19T19:22:56.365Z"
   },
   {
    "duration": 106,
    "start_time": "2023-10-19T19:22:56.411Z"
   },
   {
    "duration": 83,
    "start_time": "2023-10-19T19:22:56.519Z"
   },
   {
    "duration": 4,
    "start_time": "2023-10-19T19:22:56.605Z"
   },
   {
    "duration": 21,
    "start_time": "2023-10-19T19:22:56.611Z"
   },
   {
    "duration": 11,
    "start_time": "2023-10-19T19:22:56.634Z"
   },
   {
    "duration": 19,
    "start_time": "2023-10-19T19:22:56.647Z"
   },
   {
    "duration": 37,
    "start_time": "2023-10-19T19:22:56.668Z"
   },
   {
    "duration": 194,
    "start_time": "2023-10-19T19:22:56.708Z"
   },
   {
    "duration": 0,
    "start_time": "2023-10-19T19:22:56.904Z"
   },
   {
    "duration": 0,
    "start_time": "2023-10-19T19:22:56.905Z"
   },
   {
    "duration": 0,
    "start_time": "2023-10-19T19:22:56.906Z"
   },
   {
    "duration": 0,
    "start_time": "2023-10-19T19:22:56.907Z"
   },
   {
    "duration": 9,
    "start_time": "2023-10-19T19:23:15.288Z"
   },
   {
    "duration": 6,
    "start_time": "2023-10-19T19:23:16.234Z"
   },
   {
    "duration": 169,
    "start_time": "2023-10-19T19:23:16.551Z"
   },
   {
    "duration": 161,
    "start_time": "2023-10-19T19:23:19.398Z"
   },
   {
    "duration": 22,
    "start_time": "2023-10-19T19:23:23.464Z"
   }
  ],
  "kernelspec": {
   "display_name": "Python 3 (ipykernel)",
   "language": "python",
   "name": "python3"
  },
  "language_info": {
   "codemirror_mode": {
    "name": "ipython",
    "version": 3
   },
   "file_extension": ".py",
   "mimetype": "text/x-python",
   "name": "python",
   "nbconvert_exporter": "python",
   "pygments_lexer": "ipython3",
   "version": "3.10.9"
  },
  "toc": {
   "base_numbering": 1,
   "nav_menu": {},
   "number_sections": true,
   "sideBar": true,
   "skip_h1_title": true,
   "title_cell": "Содержание",
   "title_sidebar": "Contents",
   "toc_cell": true,
   "toc_position": {},
   "toc_section_display": true,
   "toc_window_display": false
  }
 },
 "nbformat": 4,
 "nbformat_minor": 2
}
